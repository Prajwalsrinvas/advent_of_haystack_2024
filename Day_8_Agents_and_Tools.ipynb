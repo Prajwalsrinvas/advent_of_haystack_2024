{
 "cells": [
  {
   "cell_type": "markdown",
   "metadata": {
    "colab_type": "text",
    "id": "view-in-github"
   },
   "source": [
    "<a href=\"https://colab.research.google.com/github/Prajwalsrinvas/advent_of_haystack_2024/blob/main/Day_8_Agents_and_Tools.ipynb\" target=\"_parent\"><img src=\"https://colab.research.google.com/assets/colab-badge.svg\" alt=\"Open In Colab\"/></a>"
   ]
  },
  {
   "cell_type": "markdown",
   "metadata": {
    "id": "JN0leM93chKG"
   },
   "source": [
    "# Advent of Haystack: Day 8\n",
    "\n",
    "In this challenge, we will create an Agent for Santa's backoffice: a powerful assistant capable of answering questions about the gift inventory, tracking items taken for delivery, and purchasing new ones.\n",
    "\n",
    "We will use several Haystack components, focusing primarily on the new experimental **🛠️ Tool support** (which will soon be merged into the main repository).\n",
    "It's not completely documented yet, but you can find the most important information in this [GitHub discussion](https://github.com/deepset-ai/haystack-experimental/discussions/98).\n",
    "\n",
    "**Some Useful Components**\n",
    "* [DuckduckgoApiWebSearch](https://haystack.deepset.ai/integrations/duckduckgo-api-websearch) or another [WebSearch](https://docs.haystack.deepset.ai/docs/websearch) component\n",
    "* [PromptBuilder](https://docs.haystack.deepset.ai/docs/promptbuilder)\n",
    "* [OpenAIGenerator](https://docs.haystack.deepset.ai/docs/openaigenerator) or any other `Generator`\n",
    "* 🧪 [OpenAIChatGenerator](https://github.com/deepset-ai/haystack-experimental/blob/813157dd75cc95275c51d90bc6cfb7382d88ccc2/haystack_experimental/components/generators/chat/openai.py#L88)\n",
    "* 🧪 [ToolInvoker](https://docs.haystack.deepset.ai/reference/experimental-tools-api#toolinvoker)"
   ]
  },
  {
   "cell_type": "markdown",
   "metadata": {
    "id": "AXQ6jIJmeo8X"
   },
   "source": [
    "## 1) Installation"
   ]
  },
  {
   "cell_type": "code",
   "execution_count": 1,
   "metadata": {
    "id": "EzNLQp9gbzBA"
   },
   "outputs": [],
   "source": [
    "!pip install -q -U openai haystack-ai duckduckgo-api-haystack"
   ]
  },
  {
   "cell_type": "markdown",
   "metadata": {
    "id": "GNkH92d4e5F1"
   },
   "source": [
    "## 2) Enter your API key\n",
    "\n",
    "Enter your OpenAI API key to use the `OpenAIGenerator` and `OpenAIChatGenerator`. Alternatively, you can explore and use other [Generators](https://docs.haystack.deepset.ai/docs/generators) with different models and providers."
   ]
  },
  {
   "cell_type": "code",
   "execution_count": 2,
   "metadata": {
    "colab": {
     "base_uri": "https://localhost:8080/"
    },
    "id": "QkHjTtt5e-tK",
    "outputId": "cadc9e91-7c1a-46e7-83e7-d48265550e2f"
   },
   "outputs": [
    {
     "name": "stdout",
     "output_type": "stream",
     "text": [
      "Enter OpenAI API key:··········\n"
     ]
    }
   ],
   "source": [
    "from getpass import getpass\n",
    "import os\n",
    "\n",
    "os.environ[\"OPENAI_API_KEY\"] = getpass(\"Enter OpenAI API key:\")"
   ]
  },
  {
   "cell_type": "markdown",
   "metadata": {
    "id": "AtA5-wyee8sr"
   },
   "source": [
    "### (Optional) Setup the `LoggingTracer`\n",
    "\n",
    "We recently introduced [Real-Time Pipeline Logging](https://docs.haystack.deepset.ai/docs/logging#real-time-pipeline-logging), that allows to easily inspect the data that's flowing through your pipelines. Particularly helpful during experimentation with complex pipelines."
   ]
  },
  {
   "cell_type": "code",
   "execution_count": 3,
   "metadata": {
    "id": "Z-YMiEcEYmvb"
   },
   "outputs": [],
   "source": [
    "import logging\n",
    "from haystack import tracing\n",
    "from haystack.tracing.logging_tracer import LoggingTracer\n",
    "\n",
    "logging.basicConfig(\n",
    "    format=\"%(levelname)s - %(name)s -  %(message)s\", level=logging.WARNING\n",
    ")\n",
    "logging.getLogger(\"haystack\").setLevel(logging.DEBUG)\n",
    "\n",
    "tracing.tracer.is_content_tracing_enabled = (\n",
    "    True  # to enable tracing/logging content (inputs/outputs)\n",
    ")\n",
    "tracing.enable_tracing(\n",
    "    LoggingTracer(\n",
    "        tags_color_strings={\n",
    "            \"haystack.component.input\": \"\\x1b[1;31m\",\n",
    "            \"haystack.component.name\": \"\\x1b[1;34m\",\n",
    "        }\n",
    "    )\n",
    ")"
   ]
  },
  {
   "cell_type": "markdown",
   "metadata": {
    "id": "CYn2RbbKfmJ_"
   },
   "source": [
    "## 3) Populate the inventory\n",
    "\n",
    "In this section, we use a simple Haystack [`InMemoryDocumentStore`](https://docs.haystack.deepset.ai/docs/inmemorydocumentstore) as our inventory.\n",
    "The gift/items will be `Documents`."
   ]
  },
  {
   "cell_type": "code",
   "execution_count": 4,
   "metadata": {
    "id": "Wct4tIWDcY5n"
   },
   "outputs": [],
   "source": [
    "from haystack.document_stores.in_memory import InMemoryDocumentStore\n",
    "from haystack import Document\n",
    "\n",
    "document_store = InMemoryDocumentStore()"
   ]
  },
  {
   "cell_type": "code",
   "execution_count": 5,
   "metadata": {
    "id": "HHtwQNBefFyt"
   },
   "outputs": [],
   "source": [
    "documents = [\n",
    "    Document(\n",
    "        content=\"LEGO Star Wars Set\",\n",
    "        meta={\"units\": 3456, \"origin\": \"Amazon\", \"description\": \"Amazon\"},\n",
    "    ),\n",
    "    Document(\n",
    "        content=\"Wooden Sailboat\",\n",
    "        meta={\"units\": 124, \"origin\": \"handmade\", \"description\": \"Handmade\"},\n",
    "    ),\n",
    "    Document(\n",
    "        content=\"Nintendo Switch\",\n",
    "        meta={\"units\": 2189, \"origin\": \"Amazon\", \"description\": \"Amazon\"},\n",
    "    ),\n",
    "    Document(\n",
    "        content=\"Hand-Knitted Teddy Bear\",\n",
    "        meta={\"units\": 233, \"origin\": \"handmade\", \"description\": \"Handmade\"},\n",
    "    ),\n",
    "    Document(\n",
    "        content=\"Barbie Dreamhouse\",\n",
    "        meta={\"units\": 1673, \"origin\": \"Amazon\", \"description\": \"Amazon\"},\n",
    "    ),\n",
    "    Document(\n",
    "        content=\"Carved Wooden Puzzle\",\n",
    "        meta={\"units\": 179, \"origin\": \"handmade\", \"description\": \"Handmade\"},\n",
    "    ),\n",
    "    Document(\n",
    "        content=\"Remote Control Drone\",\n",
    "        meta={\"units\": 1542, \"origin\": \"Amazon\", \"description\": \"Amazon\"},\n",
    "    ),\n",
    "    Document(\n",
    "        content=\"Painted Rocking Horse\",\n",
    "        meta={\"units\": 93, \"origin\": \"handmade\", \"description\": \"Handmade\"},\n",
    "    ),\n",
    "    Document(\n",
    "        content=\"Science Experiment Kit\",\n",
    "        meta={\"units\": 2077, \"origin\": \"Amazon\", \"description\": \"Amazon\"},\n",
    "    ),\n",
    "    Document(\n",
    "        content=\"Miniature Dollhouse\",\n",
    "        meta={\"units\": 110, \"origin\": \"handmade\", \"description\": \"Handmade\"},\n",
    "    ),\n",
    "    Document(\n",
    "        content=\"Nerf Blaster\",\n",
    "        meta={\"units\": 2731, \"origin\": \"Amazon\", \"description\": \"Amazon\"},\n",
    "    ),\n",
    "    Document(\n",
    "        content=\"Interactive Robot Pet\",\n",
    "        meta={\"units\": 1394, \"origin\": \"Amazon\", \"description\": \"Amazon\"},\n",
    "    ),\n",
    "]"
   ]
  },
  {
   "cell_type": "code",
   "execution_count": 6,
   "metadata": {
    "colab": {
     "base_uri": "https://localhost:8080/"
    },
    "id": "3IeHPXMVfI3B",
    "outputId": "5f3173cf-e0af-4162-b8d2-dde0e10b6edd"
   },
   "outputs": [
    {
     "data": {
      "text/plain": [
       "12"
      ]
     },
     "execution_count": 6,
     "metadata": {},
     "output_type": "execute_result"
    }
   ],
   "source": [
    "document_store.write_documents(documents)"
   ]
  },
  {
   "cell_type": "markdown",
   "metadata": {
    "id": "eMgGzNMpgeJl"
   },
   "source": [
    "## 4) Tools\n",
    "\n",
    "Our Santa's backoffice Agent need several Tools to work, each one with its specific action:\n",
    "- look up an item in inventory\n",
    "- add item to inventory\n",
    "- take item from inventory\n",
    "- inventory summary\n",
    "- get price of a new item\n",
    "- buy a new item\n",
    "\n",
    "We are going to create them, with your help.\n",
    "For an introduction to Tools, check out [Cookbook: Define & Run Tools](https://haystack.deepset.ai/cookbook/tools_support)."
   ]
  },
  {
   "cell_type": "markdown",
   "metadata": {
    "id": "oDwobQkKkAqa"
   },
   "source": [
    "### Lookup tool\n",
    "\n",
    "This is used to find if an item is present in the inventory.\n",
    "We will use a [`InMemoryBM25Retriever`](https://docs.haystack.deepset.ai/docs/inmemorybm25retriever) to allow also not exact matches."
   ]
  },
  {
   "cell_type": "code",
   "execution_count": 7,
   "metadata": {
    "colab": {
     "base_uri": "https://localhost:8080/"
    },
    "id": "1v14MOGMfKrP",
    "outputId": "cffe0f28-f075-498a-8111-9ebfb31aecb9"
   },
   "outputs": [
    {
     "name": "stderr",
     "output_type": "stream",
     "text": [
      "DEBUG:haystack.core.component.component:Registering <class 'haystack.components.retrievers.filter_retriever.FilterRetriever'> as a component\n",
      "DEBUG:haystack.core.component.component:Registered Component <class 'haystack.components.retrievers.filter_retriever.FilterRetriever'>\n",
      "DEBUG:haystack.core.component.component:Registering <class 'haystack.components.retrievers.in_memory.bm25_retriever.InMemoryBM25Retriever'> as a component\n",
      "DEBUG:haystack.core.component.component:Registered Component <class 'haystack.components.retrievers.in_memory.bm25_retriever.InMemoryBM25Retriever'>\n",
      "DEBUG:haystack.core.component.component:Registering <class 'haystack.components.retrievers.in_memory.embedding_retriever.InMemoryEmbeddingRetriever'> as a component\n",
      "DEBUG:haystack.core.component.component:Registered Component <class 'haystack.components.retrievers.in_memory.embedding_retriever.InMemoryEmbeddingRetriever'>\n",
      "DEBUG:haystack.core.component.component:Registering <class 'haystack.components.retrievers.sentence_window_retriever.SentenceWindowRetriever'> as a component\n",
      "DEBUG:haystack.core.component.component:Registered Component <class 'haystack.components.retrievers.sentence_window_retriever.SentenceWindowRetriever'>\n"
     ]
    }
   ],
   "source": [
    "from haystack_experimental.dataclasses import Tool\n",
    "from typing import Annotated, Literal\n",
    "\n",
    "from haystack.components.retrievers.in_memory import InMemoryBM25Retriever\n",
    "\n",
    "retriever = InMemoryBM25Retriever(document_store=document_store, top_k=3)"
   ]
  },
  {
   "cell_type": "markdown",
   "metadata": {
    "id": "qzf8-ZDqkaBY"
   },
   "source": [
    "After creating the retriever, we define a function that converts the search results to text, ready to be crunched by Language Models.\n",
    "\n",
    "As you can notice, we annotate the arguments in the function signature and provide a detailed docstring to make the conversion to a Tool seamless.\n",
    "To learn this trick, take a look at the [Newsletter Sending Agent notebook](https://haystack.deepset.ai/cookbook/newsletter-agent#extras-converting-tools)."
   ]
  },
  {
   "cell_type": "code",
   "execution_count": 8,
   "metadata": {
    "id": "FzYuvRRYfUle"
   },
   "outputs": [],
   "source": [
    "def lookup_item_in_inventory(item_name: Annotated[str, \"The item name to search\"]):\n",
    "    \"\"\"\n",
    "    Look up an item in the inventory.\n",
    "    \"\"\"\n",
    "    result = retriever.run(query=item_name)\n",
    "    text = \"\"\n",
    "    for doc in result[\"documents\"]:\n",
    "        text += f\"found item: {doc.content}; units: {doc.meta['units']}; matching score: {doc.score}\\n\"\n",
    "    return text"
   ]
  },
  {
   "cell_type": "code",
   "execution_count": 9,
   "metadata": {
    "colab": {
     "base_uri": "https://localhost:8080/"
    },
    "id": "apYyXTGSf7kC",
    "outputId": "f0498a0a-f668-4389-8e43-0f051f6617ce"
   },
   "outputs": [
    {
     "name": "stdout",
     "output_type": "stream",
     "text": [
      "found item: LEGO Star Wars Set; units: 3456; matching score: 2.3976626592085233\n",
      "found item: Wooden Sailboat; units: 124; matching score: 1.3496776558458576\n",
      "found item: Nintendo Switch; units: 2189; matching score: 1.3496776558458576\n",
      "\n"
     ]
    }
   ],
   "source": [
    "print(lookup_item_in_inventory(item_name=\"lego\"))"
   ]
  },
  {
   "cell_type": "code",
   "execution_count": 10,
   "metadata": {
    "id": "a11KClpGf-qT"
   },
   "outputs": [],
   "source": [
    "lookup_item_in_inventory_tool = Tool.from_function(lookup_item_in_inventory)"
   ]
  },
  {
   "cell_type": "code",
   "execution_count": 11,
   "metadata": {
    "id": "UeQMjv-N3VK7"
   },
   "outputs": [],
   "source": [
    "from pprint import pprint"
   ]
  },
  {
   "cell_type": "code",
   "execution_count": 12,
   "metadata": {
    "colab": {
     "base_uri": "https://localhost:8080/"
    },
    "id": "vgOPF5Ta3Tm6",
    "outputId": "6f84babb-b3e6-4f2c-91a0-21f2dd109eef"
   },
   "outputs": [
    {
     "name": "stdout",
     "output_type": "stream",
     "text": [
      "Tool(name='lookup_item_in_inventory',\n",
      "     description='\\n  Look up an item in the inventory.\\n  ',\n",
      "     parameters={'properties': {'item_name': {'description': 'The item name to '\n",
      "                                                             'search',\n",
      "                                              'type': 'string'}},\n",
      "                 'required': ['item_name'],\n",
      "                 'type': 'object'},\n",
      "     function=<function lookup_item_in_inventory at 0x7d2f7b27d1b0>)\n"
     ]
    }
   ],
   "source": [
    "pprint(lookup_item_in_inventory_tool)"
   ]
  },
  {
   "cell_type": "code",
   "execution_count": 13,
   "metadata": {
    "colab": {
     "base_uri": "https://localhost:8080/"
    },
    "id": "B57fRNH1lrgP",
    "outputId": "a29015bc-c05a-4b4d-c02b-4627426e8915"
   },
   "outputs": [
    {
     "name": "stdout",
     "output_type": "stream",
     "text": [
      "found item: LEGO Star Wars Set; units: 3456; matching score: 2.3976626592085233\n",
      "found item: Wooden Sailboat; units: 124; matching score: 1.3496776558458576\n",
      "found item: Nintendo Switch; units: 2189; matching score: 1.3496776558458576\n",
      "\n"
     ]
    }
   ],
   "source": [
    "print(lookup_item_in_inventory_tool.invoke(item_name=\"lego\"))"
   ]
  },
  {
   "cell_type": "markdown",
   "metadata": {
    "id": "QPAhP-8YmFiw"
   },
   "source": [
    "### Add item tool\n",
    "\n",
    "Next, a tool to add an item to the inventory"
   ]
  },
  {
   "cell_type": "code",
   "execution_count": 14,
   "metadata": {
    "id": "bLRG6etMgQ_h"
   },
   "outputs": [],
   "source": [
    "from haystack.document_stores.types import DuplicatePolicy\n",
    "\n",
    "\n",
    "def add_item_to_inventory(\n",
    "    item_name: Annotated[str, \"The item name to add to inventory\"],\n",
    "    origin: Annotated[Literal[\"handmade\", \"Amazon\"], \"The origin of the item\"],\n",
    "    units: Annotated[int, \"The number of units to add to inventory\"] = 1,\n",
    "):\n",
    "    \"\"\"\n",
    "    Add an item to the inventory.\n",
    "    \"\"\"\n",
    "    found = document_store.filter_documents(\n",
    "        filters={\"field\": \"content\", \"operator\": \"==\", \"value\": item_name}\n",
    "    )\n",
    "    id_ = None\n",
    "    if found:\n",
    "        units += found[0].meta[\"units\"]\n",
    "        id_ = found[0].id\n",
    "\n",
    "    doc = Document(id=id_, content=item_name, meta={\"units\": units, \"origin\": origin})\n",
    "    return document_store.write_documents([doc], policy=DuplicatePolicy.OVERWRITE)"
   ]
  },
  {
   "cell_type": "code",
   "execution_count": 15,
   "metadata": {
    "id": "SdDyMTNug1rT"
   },
   "outputs": [],
   "source": [
    "add_item_to_inventory_tool = Tool.from_function(add_item_to_inventory)"
   ]
  },
  {
   "cell_type": "code",
   "execution_count": 16,
   "metadata": {
    "colab": {
     "base_uri": "https://localhost:8080/"
    },
    "id": "h19QKgzH336a",
    "outputId": "cd497b57-29aa-42ec-b84a-ce9267bd32d0"
   },
   "outputs": [
    {
     "name": "stdout",
     "output_type": "stream",
     "text": [
      "Tool(name='add_item_to_inventory',\n",
      "     description='\\n    Add an item to the inventory.\\n    ',\n",
      "     parameters={'properties': {'item_name': {'description': 'The item name to '\n",
      "                                                             'add to inventory',\n",
      "                                              'type': 'string'},\n",
      "                                'origin': {'description': 'The origin of the '\n",
      "                                                          'item',\n",
      "                                           'enum': ['handmade', 'Amazon'],\n",
      "                                           'type': 'string'},\n",
      "                                'units': {'default': 1,\n",
      "                                          'description': 'The number of units '\n",
      "                                                         'to add to inventory',\n",
      "                                          'type': 'integer'}},\n",
      "                 'required': ['item_name', 'origin'],\n",
      "                 'type': 'object'},\n",
      "     function=<function add_item_to_inventory at 0x7d303bff7910>)\n"
     ]
    }
   ],
   "source": [
    "pprint(add_item_to_inventory_tool)"
   ]
  },
  {
   "cell_type": "markdown",
   "metadata": {
    "id": "ZPvD2eFDmOBB"
   },
   "source": [
    "### Inventory Summary tool\n",
    "\n",
    "Now it's your turn.\n",
    "\n",
    "Let's start with a basic `inventory_summary` function and its `inventory_summary_tool`.\n",
    "\n",
    "This tool is expected to retrieve all items and return a textual summary/list as `\"name: <NAME>; units: <UNITS>; origin: <ORIGIN>\"` for each item."
   ]
  },
  {
   "cell_type": "code",
   "execution_count": 17,
   "metadata": {
    "colab": {
     "base_uri": "https://localhost:8080/"
    },
    "id": "jUg_A-OR6b6A",
    "outputId": "a455eef7-a6c8-43a4-ed8c-a46b054925c5"
   },
   "outputs": [
    {
     "name": "stderr",
     "output_type": "stream",
     "text": [
      "DEBUG:haystack.core.component.component:Registering <class 'haystack.components.builders.answer_builder.AnswerBuilder'> as a component\n",
      "DEBUG:haystack.core.component.component:Registered Component <class 'haystack.components.builders.answer_builder.AnswerBuilder'>\n",
      "DEBUG:haystack.core.component.component:Registering <class 'haystack.components.builders.chat_prompt_builder.ChatPromptBuilder'> as a component\n",
      "DEBUG:haystack.core.component.component:Registered Component <class 'haystack.components.builders.chat_prompt_builder.ChatPromptBuilder'>\n",
      "DEBUG:haystack.core.component.component:Registering <class 'haystack.components.builders.prompt_builder.PromptBuilder'> as a component\n",
      "DEBUG:haystack.core.component.component:Registered Component <class 'haystack.components.builders.prompt_builder.PromptBuilder'>\n",
      "DEBUG:haystack.core.component.component:Registering <class 'haystack.components.generators.openai.OpenAIGenerator'> as a component\n",
      "DEBUG:haystack.core.component.component:Registered Component <class 'haystack.components.generators.openai.OpenAIGenerator'>\n",
      "DEBUG:haystack.core.component.component:Registering <class 'haystack.components.generators.azure.AzureOpenAIGenerator'> as a component\n",
      "DEBUG:haystack.core.component.component:Registered Component <class 'haystack.components.generators.azure.AzureOpenAIGenerator'>\n",
      "DEBUG:haystack.core.component.component:Registering <class 'haystack.components.generators.hugging_face_local.HuggingFaceLocalGenerator'> as a component\n",
      "DEBUG:haystack.core.component.component:Registered Component <class 'haystack.components.generators.hugging_face_local.HuggingFaceLocalGenerator'>\n",
      "DEBUG:haystack.core.component.component:Registering <class 'haystack.components.generators.hugging_face_api.HuggingFaceAPIGenerator'> as a component\n",
      "DEBUG:haystack.core.component.component:Registered Component <class 'haystack.components.generators.hugging_face_api.HuggingFaceAPIGenerator'>\n",
      "DEBUG:haystack.core.component.component:Registering <class 'haystack.components.generators.openai_dalle.DALLEImageGenerator'> as a component\n",
      "DEBUG:haystack.core.component.component:Registered Component <class 'haystack.components.generators.openai_dalle.DALLEImageGenerator'>\n"
     ]
    }
   ],
   "source": [
    "from haystack import Pipeline\n",
    "from haystack.components.retrievers.in_memory import InMemoryBM25Retriever\n",
    "from haystack.components.builders.prompt_builder import PromptBuilder\n",
    "from haystack.components.generators import OpenAIGenerator\n",
    "from haystack.document_stores.in_memory import InMemoryDocumentStore\n",
    "from haystack import Document"
   ]
  },
  {
   "cell_type": "code",
   "execution_count": 18,
   "metadata": {
    "id": "Nb2kXx-DhDGq"
   },
   "outputs": [],
   "source": [
    "def inventory_summary():\n",
    "    \"\"\"\n",
    "    Get inventory summary\n",
    "    \"\"\"\n",
    "    docs = document_store.filter_documents()\n",
    "    summaries = [\n",
    "        f\"name: {doc.content}; units: {doc.meta['units']}; origin: {doc.meta['origin']}\"\n",
    "        for doc in docs\n",
    "    ]\n",
    "    return \"\\n\".join(summaries)"
   ]
  },
  {
   "cell_type": "code",
   "execution_count": 19,
   "metadata": {
    "id": "TWELJk4GhJQj"
   },
   "outputs": [],
   "source": [
    "inventory_summary_tool = Tool.from_function(inventory_summary)"
   ]
  },
  {
   "cell_type": "code",
   "execution_count": 20,
   "metadata": {
    "colab": {
     "base_uri": "https://localhost:8080/"
    },
    "id": "KJ8SVpqe8EVz",
    "outputId": "ec7cae64-fce7-4fff-e3b1-65cd934cdd21"
   },
   "outputs": [
    {
     "name": "stdout",
     "output_type": "stream",
     "text": [
      "Tool(name='inventory_summary',\n",
      "     description='\\n  Get inventory summary\\n  ',\n",
      "     parameters={'properties': {}, 'type': 'object'},\n",
      "     function=<function inventory_summary at 0x7d2f7b27dab0>)\n"
     ]
    }
   ],
   "source": [
    "pprint(inventory_summary_tool)"
   ]
  },
  {
   "cell_type": "code",
   "execution_count": 21,
   "metadata": {
    "colab": {
     "base_uri": "https://localhost:8080/"
    },
    "id": "0Fx7Aws98FbK",
    "outputId": "d8be2887-ba7b-482c-f6ab-f26fb0918c59"
   },
   "outputs": [
    {
     "name": "stdout",
     "output_type": "stream",
     "text": [
      "name: LEGO Star Wars Set; units: 3456; origin: Amazon\n",
      "name: Wooden Sailboat; units: 124; origin: handmade\n",
      "name: Nintendo Switch; units: 2189; origin: Amazon\n",
      "name: Hand-Knitted Teddy Bear; units: 233; origin: handmade\n",
      "name: Barbie Dreamhouse; units: 1673; origin: Amazon\n",
      "name: Carved Wooden Puzzle; units: 179; origin: handmade\n",
      "name: Remote Control Drone; units: 1542; origin: Amazon\n",
      "name: Painted Rocking Horse; units: 93; origin: handmade\n",
      "name: Science Experiment Kit; units: 2077; origin: Amazon\n",
      "name: Miniature Dollhouse; units: 110; origin: handmade\n",
      "name: Nerf Blaster; units: 2731; origin: Amazon\n",
      "name: Interactive Robot Pet; units: 1394; origin: Amazon\n"
     ]
    }
   ],
   "source": [
    "print(inventory_summary_tool.invoke())"
   ]
  },
  {
   "cell_type": "markdown",
   "metadata": {
    "id": "W_ngfnfHm-Wb"
   },
   "source": [
    "### Take from Inventory tool\n",
    "\n",
    "A more complex tool for you to build!\n",
    "\n",
    "This should take as input the `item_name` and the `units`.\n",
    "- it should try to fetch the item\n",
    "- if not present, return a message saying `\"item {item_name} not found in inventory\"`\n",
    "- if present and units > units in inventory, return a message saying `\"item {item_name} has only {units_in_inventory} units, cannot take {units}\"`\n",
    "- otherwise, remove the specified `units` from the inventory and return an explanatory message saying `\"item {item_name} has been updated in inventory\"`"
   ]
  },
  {
   "cell_type": "code",
   "execution_count": 22,
   "metadata": {
    "colab": {
     "base_uri": "https://localhost:8080/"
    },
    "id": "N-IH8dyS83iF",
    "outputId": "22472c63-e56b-4c85-9475-70a5a03143be"
   },
   "outputs": [
    {
     "data": {
      "text/plain": [
       "[Document(id=cd5d8ec02ea4c799d9dcf83c3d0ea789d03eb01b559f3d7ff7a76fe19fb2ae84, content: 'LEGO Star Wars Set', meta: {'units': 3456, 'origin': 'Amazon', 'description': 'Amazon'})]"
      ]
     },
     "execution_count": 22,
     "metadata": {},
     "output_type": "execute_result"
    }
   ],
   "source": [
    "document_store.filter_documents(\n",
    "    filters={\"field\": \"content\", \"operator\": \"==\", \"value\": \"LEGO Star Wars Set\"}\n",
    ")"
   ]
  },
  {
   "cell_type": "code",
   "execution_count": 23,
   "metadata": {
    "colab": {
     "base_uri": "https://localhost:8080/"
    },
    "id": "7t0-5xe4AO23",
    "outputId": "fc976e04-7184-42a8-c422-03be457353d8"
   },
   "outputs": [
    {
     "data": {
      "text/plain": [
       "Document(id=cd5d8ec02ea4c799d9dcf83c3d0ea789d03eb01b559f3d7ff7a76fe19fb2ae84, content: 'LEGO Star Wars Set', meta: {'units': 3456, 'origin': 'Amazon', 'description': 'Amazon'})"
      ]
     },
     "execution_count": 23,
     "metadata": {},
     "output_type": "execute_result"
    }
   ],
   "source": [
    "document_store.filter_documents(\n",
    "    filters={\"field\": \"content\", \"operator\": \"==\", \"value\": \"LEGO Star Wars Set\"}\n",
    ")[0]"
   ]
  },
  {
   "cell_type": "code",
   "execution_count": 24,
   "metadata": {
    "colab": {
     "base_uri": "https://localhost:8080/"
    },
    "id": "U4eyZiC39hPS",
    "outputId": "cea185d6-d2ce-4fad-d0fe-b926f7980ea3"
   },
   "outputs": [
    {
     "data": {
      "text/plain": [
       "[]"
      ]
     },
     "execution_count": 24,
     "metadata": {},
     "output_type": "execute_result"
    }
   ],
   "source": [
    "document_store.filter_documents(\n",
    "    filters={\"field\": \"content\", \"operator\": \"==\", \"value\": \"LEGO Star Wars Sets\"}\n",
    ")"
   ]
  },
  {
   "cell_type": "code",
   "execution_count": 25,
   "metadata": {
    "id": "jmwf7SkWhNTn"
   },
   "outputs": [],
   "source": [
    "def take_from_inventory(\n",
    "    item_name: Annotated[str, \"Item to take from inventory\"],\n",
    "    units: Annotated[int, \"Number of units of the item to take from inventory\"],\n",
    "):\n",
    "    \"\"\"\n",
    "    Takes specified units of an item from inventory, updating the stored quantity. Returns error message if item isn't found or has insufficient units.\n",
    "    \"\"\"\n",
    "    docs = document_store.filter_documents(\n",
    "        filters={\"field\": \"content\", \"operator\": \"==\", \"value\": item_name}\n",
    "    )\n",
    "    if docs:\n",
    "        item = docs[0]\n",
    "        units_in_inventory = item.meta[\"units\"]\n",
    "        if units > units_in_inventory:\n",
    "            return f\"item {item_name} has only {units_in_inventory} units, cannot take {units}\"\n",
    "        else:\n",
    "            item.meta.update({\"units\": units_in_inventory - units})\n",
    "            document_store.write_documents([item], policy=DuplicatePolicy.OVERWRITE)\n",
    "    else:\n",
    "        return f\"item {item_name} not found in inventory\""
   ]
  },
  {
   "cell_type": "code",
   "execution_count": 26,
   "metadata": {
    "id": "iSebujGKhcqH"
   },
   "outputs": [],
   "source": [
    "take_from_inventory_tool = Tool.from_function(take_from_inventory)"
   ]
  },
  {
   "cell_type": "code",
   "execution_count": 27,
   "metadata": {
    "colab": {
     "base_uri": "https://localhost:8080/"
    },
    "id": "MAg5CQ80BE7q",
    "outputId": "0690d6ab-08ea-4132-a60a-0127bc947696"
   },
   "outputs": [
    {
     "name": "stdout",
     "output_type": "stream",
     "text": [
      "Tool(name='take_from_inventory',\n",
      "     description='\\n'\n",
      "                 '  Takes specified units of an item from inventory, updating '\n",
      "                 \"the stored quantity. Returns error message if item isn't \"\n",
      "                 'found or has insufficient units.\\n'\n",
      "                 '  ',\n",
      "     parameters={'properties': {'item_name': {'description': 'Item to take '\n",
      "                                                             'from inventory',\n",
      "                                              'type': 'string'},\n",
      "                                'units': {'description': 'Number of units of '\n",
      "                                                         'the item to take '\n",
      "                                                         'from inventory',\n",
      "                                          'type': 'integer'}},\n",
      "                 'required': ['item_name', 'units'],\n",
      "                 'type': 'object'},\n",
      "     function=<function take_from_inventory at 0x7d2f1bf96f80>)\n"
     ]
    }
   ],
   "source": [
    "pprint(take_from_inventory_tool)"
   ]
  },
  {
   "cell_type": "code",
   "execution_count": 28,
   "metadata": {
    "colab": {
     "base_uri": "https://localhost:8080/",
     "height": 36
    },
    "id": "V1QYM7kDBE0N",
    "outputId": "cf04097b-7b26-4164-e50d-c73633384160"
   },
   "outputs": [
    {
     "data": {
      "application/vnd.google.colaboratory.intrinsic+json": {
       "type": "string"
      },
      "text/plain": [
       "'item LEGO Star Wars Sets not found in inventory'"
      ]
     },
     "execution_count": 28,
     "metadata": {},
     "output_type": "execute_result"
    }
   ],
   "source": [
    "take_from_inventory_tool.invoke(item_name=\"LEGO Star Wars Sets\", units=1)"
   ]
  },
  {
   "cell_type": "code",
   "execution_count": 29,
   "metadata": {
    "colab": {
     "base_uri": "https://localhost:8080/"
    },
    "id": "nl2uVPUXBj37",
    "outputId": "f6424ca6-dfd0-4189-c0f8-7a9a2e519c08"
   },
   "outputs": [
    {
     "data": {
      "text/plain": [
       "[Document(id=cd5d8ec02ea4c799d9dcf83c3d0ea789d03eb01b559f3d7ff7a76fe19fb2ae84, content: 'LEGO Star Wars Set', meta: {'units': 3456, 'origin': 'Amazon', 'description': 'Amazon'})]"
      ]
     },
     "execution_count": 29,
     "metadata": {},
     "output_type": "execute_result"
    }
   ],
   "source": [
    "document_store.filter_documents(\n",
    "    filters={\"field\": \"content\", \"operator\": \"==\", \"value\": \"LEGO Star Wars Set\"}\n",
    ")"
   ]
  },
  {
   "cell_type": "code",
   "execution_count": 30,
   "metadata": {
    "id": "fWT28fCRBZk6"
   },
   "outputs": [],
   "source": [
    "take_from_inventory_tool.invoke(item_name=\"LEGO Star Wars Set\", units=1)"
   ]
  },
  {
   "cell_type": "code",
   "execution_count": 31,
   "metadata": {
    "colab": {
     "base_uri": "https://localhost:8080/"
    },
    "id": "B2WbIQSlBZbk",
    "outputId": "3b71d488-b53d-4358-8112-76ccf9bdfc4d"
   },
   "outputs": [
    {
     "data": {
      "text/plain": [
       "Document(id=cd5d8ec02ea4c799d9dcf83c3d0ea789d03eb01b559f3d7ff7a76fe19fb2ae84, content: 'LEGO Star Wars Set', meta: {'units': 3455, 'origin': 'Amazon', 'description': 'Amazon'})"
      ]
     },
     "execution_count": 31,
     "metadata": {},
     "output_type": "execute_result"
    }
   ],
   "source": [
    "document_store.filter_documents(\n",
    "    filters={\"field\": \"content\", \"operator\": \"==\", \"value\": \"LEGO Star Wars Set\"}\n",
    ")[0]"
   ]
  },
  {
   "cell_type": "code",
   "execution_count": 32,
   "metadata": {
    "colab": {
     "base_uri": "https://localhost:8080/",
     "height": 36
    },
    "id": "_5DXJfPNBlb4",
    "outputId": "58087413-9049-46c8-fe8c-a4a7e130723f"
   },
   "outputs": [
    {
     "data": {
      "application/vnd.google.colaboratory.intrinsic+json": {
       "type": "string"
      },
      "text/plain": [
       "'item LEGO Star Wars Set has only 3455 units, cannot take 5000'"
      ]
     },
     "execution_count": 32,
     "metadata": {},
     "output_type": "execute_result"
    }
   ],
   "source": [
    "take_from_inventory_tool.invoke(item_name=\"LEGO Star Wars Set\", units=5000)"
   ]
  },
  {
   "cell_type": "markdown",
   "metadata": {
    "id": "xjAcsClXoAo7"
   },
   "source": [
    "### Get Price tool\n",
    "\n",
    "This tool tries to find the Amazon price of the item in the web.\n",
    "\n",
    "In this case, the tool wraps a Web RAG Pipeline.\n",
    "The tool is given but you need to define the pipeline with [DuckduckgoApiWebSearch](https://haystack.deepset.ai/integrations/duckduckgo-api-websearch), [PromptBuilder](https://docs.haystack.deepset.ai/docs/promptbuilder) and [OpenAIGenerator](https://docs.haystack.deepset.ai/docs/openaigenerator).\n",
    "\n",
    "**HINT:** If you quickly hit the rate limit, you can change the `backend` of `DuckduckgoApiWebSearch` and use \"html\" (or \"lite\").\n"
   ]
  },
  {
   "cell_type": "code",
   "execution_count": 33,
   "metadata": {
    "colab": {
     "base_uri": "https://localhost:8080/"
    },
    "id": "tvbrb6XRhoYg",
    "outputId": "0bff4b41-e08f-4043-acf7-f920762c238f"
   },
   "outputs": [
    {
     "name": "stderr",
     "output_type": "stream",
     "text": [
      "DEBUG:haystack.core.component.component:Registering <class 'duckduckgo_api_haystack.duckduckgoapi.DuckduckgoApiWebSearch'> as a component\n",
      "DEBUG:haystack.core.component.component:Registered Component <class 'duckduckgo_api_haystack.duckduckgoapi.DuckduckgoApiWebSearch'>\n"
     ]
    }
   ],
   "source": [
    "from duckduckgo_api_haystack import DuckduckgoApiWebSearch"
   ]
  },
  {
   "cell_type": "code",
   "execution_count": 40,
   "metadata": {
    "id": "Rw9xrVlwD4YX"
   },
   "outputs": [],
   "source": [
    "websearch = DuckduckgoApiWebSearch(top_k=3, backend=\"api\")"
   ]
  },
  {
   "cell_type": "code",
   "execution_count": 41,
   "metadata": {
    "id": "8Q3mQgiMD9mY"
   },
   "outputs": [],
   "source": [
    "results = websearch.run(query=\"What is frico?\")"
   ]
  },
  {
   "cell_type": "code",
   "execution_count": 42,
   "metadata": {
    "colab": {
     "base_uri": "https://localhost:8080/"
    },
    "id": "SSML2E6AEEOj",
    "outputId": "c6f56cca-75d9-4297-8db2-9552e3311805"
   },
   "outputs": [
    {
     "data": {
      "text/plain": [
       "{'documents': [Document(id=0adffb4806e18d9b902de1a1971c83c02685cb033b20151a2c9724345bceb226, content: 'Originally frico was prepared in the impoverished region as a way of recycling cheese rinds. There a...', meta: {'title': 'Frico - Wikipedia', 'link': 'https://en.wikipedia.org/wiki/Frico'}),\n",
       "  Document(id=cb384d95c91ba726c84cc239c051c88f3b697c9122b60e0eb4cac1164504cd12, content: 'Mar 23, 2018 ... A soft frico is something like a potato pancake, only you pile on lots of cheese, s...', meta: {'title': 'Frico - Memorie di Angelina', 'link': 'https://memoriediangelina.com/2018/03/23/frico/'}),\n",
       "  Document(id=881db0057a079d6304e0b015376245b6b337f35dc15b782990429d79faac71d4, content: 'Mar 26, 2020 ... Here is a rustic Italian dish made with potato, onion and lots of Parmesan cheese. ...', meta: {'title': \"Frico - Italian Potato Pie - Step by Step - Analida's Ethnic Spoon\", 'link': 'https://ethnicspoon.com/frico/'})],\n",
       " 'links': ['https://en.wikipedia.org/wiki/Frico',\n",
       "  'https://memoriediangelina.com/2018/03/23/frico/',\n",
       "  'https://ethnicspoon.com/frico/']}"
      ]
     },
     "execution_count": 42,
     "metadata": {},
     "output_type": "execute_result"
    }
   ],
   "source": [
    "results"
   ]
  },
  {
   "cell_type": "code",
   "execution_count": 43,
   "metadata": {
    "colab": {
     "base_uri": "https://localhost:8080/"
    },
    "id": "85fQYACiD3el",
    "outputId": "8f6a71cd-ba9f-4aef-98e7-0e7a1a1c7e5e"
   },
   "outputs": [
    {
     "name": "stderr",
     "output_type": "stream",
     "text": [
      "DEBUG:haystack.core.pipeline.base:Adding component 'websearch' (<duckduckgo_api_haystack.duckduckgoapi.DuckduckgoApiWebSearch object at 0x7d2f1ae47bb0>\n",
      "\n",
      "Inputs:\n",
      "  - query: str\n",
      "Outputs:\n",
      "  - documents: List[Document]\n",
      "  - links: List[str])\n",
      "DEBUG:haystack.core.pipeline.base:Adding component 'prompt_builder' (<haystack.components.builders.prompt_builder.PromptBuilder object at 0x7d2f1ae95450>\n",
      "\n",
      "Inputs:\n",
      "  - query: Any\n",
      "  - documents: Any\n",
      "  - template: Optional[str]\n",
      "  - template_variables: Optional[Dict[str, Any]]\n",
      "Outputs:\n",
      "  - prompt: str)\n",
      "DEBUG:haystack.core.pipeline.base:Adding component 'llm' (<haystack.components.generators.openai.OpenAIGenerator object at 0x7d2f1ae954b0>\n",
      "\n",
      "Inputs:\n",
      "  - prompt: str\n",
      "  - system_prompt: Optional[str]\n",
      "  - streaming_callback: Optional[Callable[]]\n",
      "  - generation_kwargs: Optional[Dict[str, Any]]\n",
      "Outputs:\n",
      "  - replies: List[str]\n",
      "  - meta: List[Dict[str, Any]])\n",
      "DEBUG:haystack.core.pipeline.base:Connecting 'websearch.documents' to 'prompt_builder.documents'\n",
      "DEBUG:haystack.core.pipeline.base:Connecting 'prompt_builder.prompt' to 'llm.prompt'\n"
     ]
    },
    {
     "data": {
      "text/plain": [
       "<haystack.core.pipeline.pipeline.Pipeline object at 0x7d2f1ae94ac0>\n",
       "🚅 Components\n",
       "  - websearch: DuckduckgoApiWebSearch\n",
       "  - prompt_builder: PromptBuilder\n",
       "  - llm: OpenAIGenerator\n",
       "🛤️ Connections\n",
       "  - websearch.documents -> prompt_builder.documents (List[Document])\n",
       "  - prompt_builder.prompt -> llm.prompt (str)"
      ]
     },
     "execution_count": 43,
     "metadata": {},
     "output_type": "execute_result"
    }
   ],
   "source": [
    "prompt_template = \"\"\"\n",
    "    Given these documents, answer the question.\\nDocuments:\n",
    "    {% for doc in documents %}\n",
    "        {{ doc.content }}\n",
    "    {% endfor %}\n",
    "\n",
    "    \\nQuestion: {{query}}\n",
    "    \\nAnswer:\n",
    "    \"\"\"\n",
    "prompt_builder = PromptBuilder(template=prompt_template)\n",
    "llm = OpenAIGenerator(model=\"gpt-4o-mini\")\n",
    "\n",
    "get_price_pipe = Pipeline()\n",
    "\n",
    "get_price_pipe.add_component(name=\"websearch\", instance=websearch)\n",
    "get_price_pipe.add_component(name=\"prompt_builder\", instance=prompt_builder)\n",
    "get_price_pipe.add_component(name=\"llm\", instance=llm)\n",
    "\n",
    "get_price_pipe.connect(\"websearch\", \"prompt_builder\")\n",
    "get_price_pipe.connect(\"prompt_builder\", \"llm\")"
   ]
  },
  {
   "cell_type": "code",
   "execution_count": 44,
   "metadata": {
    "colab": {
     "base_uri": "https://localhost:8080/",
     "height": 1000
    },
    "id": "gh8l00qwFE0f",
    "outputId": "2907eb49-6d2d-4193-d507-6c7e5bcc8956"
   },
   "outputs": [
    {
     "name": "stderr",
     "output_type": "stream",
     "text": [
      "DEBUG:haystack.core.pipeline.draw:Mermaid diagram:\n",
      "\n",
      "%%{ init: {'theme': 'neutral' } }%%\n",
      "\n",
      "graph TD;\n",
      "\n",
      "websearch[\"<b>websearch</b><br><small><i>DuckduckgoApiWebSearch</i></small>\"]:::component -. \"documents -> documents (opt.)<br><small><i>List[Document]</i></small>\" .-> prompt_builder[\"<b>prompt_builder</b><br><small><i>PromptBuilder<br><br>Optional inputs:<ul style='text-align:left;'><li>query (Any)</li><li>template (Optional[str])</li><li>template_variables (Optional[Dict[str, Any]])</li></ul></i></small>\"]:::component\n",
      "prompt_builder[\"<b>prompt_builder</b><br><small><i>PromptBuilder<br><br>Optional inputs:<ul style='text-align:left;'><li>query (Any)</li><li>template (Optional[str])</li><li>template_variables (Optional[Dict[str, Any]])</li></ul></i></small>\"]:::component -- \"prompt -> prompt<br><small><i>str</i></small>\" --> llm[\"<b>llm</b><br><small><i>OpenAIGenerator<br><br>Optional inputs:<ul style='text-align:left;'><li>system_prompt (Optional[str])</li><li>streaming_callback (Optional[Callable[]])</li><li>generation_kwargs (Optional[Dict[str, Any]])</li></ul></i></small>\"]:::component\n",
      "i{&ast;}--\"query<br><small><i>str</i></small>\"--> websearch[\"<b>websearch</b><br><small><i>DuckduckgoApiWebSearch</i></small>\"]:::component\n",
      "websearch[\"<b>websearch</b><br><small><i>DuckduckgoApiWebSearch</i></small>\"]:::component--\"links<br><small><i>List[str]</i></small>\"--> o{&ast;}\n",
      "llm[\"<b>llm</b><br><small><i>OpenAIGenerator<br><br>Optional inputs:<ul style='text-align:left;'><li>system_prompt (Optional[str])</li><li>streaming_callback (Optional[Callable[]])</li><li>generation_kwargs (Optional[Dict[str, Any]])</li></ul></i></small>\"]:::component--\"replies<br><small><i>List[str]</i></small>\"--> o{&ast;}\n",
      "llm[\"<b>llm</b><br><small><i>OpenAIGenerator<br><br>Optional inputs:<ul style='text-align:left;'><li>system_prompt (Optional[str])</li><li>streaming_callback (Optional[Callable[]])</li><li>generation_kwargs (Optional[Dict[str, Any]])</li></ul></i></small>\"]:::component--\"meta<br><small><i>List[Dict[str, Any]]</i></small>\"--> o{&ast;}\n",
      "\n",
      "classDef component text-align:center;\n",
      "\n",
      "DEBUG:haystack.core.pipeline.draw:Rendering graph at https://mermaid.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?type=png\n"
     ]
    },
    {
     "data": {
      "image/png": "[encoded data removed]",
      "text/plain": [
       "<IPython.core.display.Image object>"
      ]
     },
     "metadata": {},
     "output_type": "display_data"
    }
   ],
   "source": [
    "get_price_pipe.show()"
   ]
  },
  {
   "cell_type": "code",
   "execution_count": 45,
   "metadata": {
    "id": "x0epLB6AiYtj"
   },
   "outputs": [],
   "source": [
    "def get_price(item_name: Annotated[str, \"The item name to search\"]):\n",
    "    \"\"\"\n",
    "    Search the web to get the price of an item on Amazon\n",
    "    \"\"\"\n",
    "\n",
    "    search_query = f\"price of {item_name} on Amazon\"\n",
    "    question = f\"What is the price of {item_name} on Amazon? Respond with minimal item name and minimum price.\"\n",
    "\n",
    "    data = {\"websearch\": {\"query\": search_query}, \"prompt_builder\": {\"query\": question}}\n",
    "\n",
    "    return get_price_pipe.run(data=data)[\"llm\"][\"replies\"][0]"
   ]
  },
  {
   "cell_type": "code",
   "execution_count": 46,
   "metadata": {
    "colab": {
     "base_uri": "https://localhost:8080/",
     "height": 663
    },
    "id": "zk2GbXM3iTDc",
    "outputId": "e6273ed8-d099-4419-8d3c-cfb1fe95ba1e"
   },
   "outputs": [
    {
     "name": "stderr",
     "output_type": "stream",
     "text": [
      "INFO:haystack.core.pipeline.pipeline:Running component websearch\n",
      "DEBUG:haystack.tracing.logging_tracer:Operation: haystack.component.run\n",
      "DEBUG:haystack.tracing.logging_tracer:\u001b[1;34mhaystack.component.name=websearch\u001b[0m\n",
      "DEBUG:haystack.tracing.logging_tracer:haystack.component.type=DuckduckgoApiWebSearch\u001b[0m\n",
      "DEBUG:haystack.tracing.logging_tracer:haystack.component.input_types={'query': 'str'}\u001b[0m\n",
      "DEBUG:haystack.tracing.logging_tracer:haystack.component.input_spec={'query': {'type': 'str', 'senders': []}}\u001b[0m\n",
      "DEBUG:haystack.tracing.logging_tracer:haystack.component.output_spec={'documents': {'type': 'typing.List[haystack.dataclasses.document.Document]', 'receivers': ['prompt_builder']}, 'links': {'type': 'typing.List[str]', 'receivers': []}}\u001b[0m\n",
      "DEBUG:haystack.tracing.logging_tracer:\u001b[1;31mhaystack.component.input={'query': 'price of A Short History of Nearly Everything on Amazon'}\u001b[0m\n",
      "DEBUG:haystack.tracing.logging_tracer:haystack.component.visits=1\u001b[0m\n",
      "DEBUG:haystack.tracing.logging_tracer:haystack.component.output={'documents': [Document(id=2599cebb50992722f822e32359281874828f2c048cac3cf2d6e1aca91c8c5ddb, content: 'Buy New. -45% $13.29$13.29. FREE delivery Sunday, January 5 on orders shipped by Amazon over $35. Sh...', meta: {'title': 'A Short History of Nearly Everything: Bryson, Bill - Amazon.com', 'link': 'https://www.amazon.com/Short-History-Nearly-Everything/dp/076790818X'}), Document(id=1cdca0b6cdec5ea371883af62bbe2fc6c7f726add38760978786443018929030, content: 'A Really Short History of Nearly Everything [Bryson, Bill] on Amazon ... What do customers buy after...', meta: {'title': 'A Really Short History of Nearly Everything: Bryson, Bill', 'link': 'https://www.amazon.com/Really-Short-History-Nearly-Everything/dp/0385738102'}), Document(id=d1e45fc542b2d270a097a87e09e96d20fe88c17456b94e98abd444fdd797ef03, content: 'Buy A Short History of Nearly Everything on Amazon.com ✓ FREE SHIPPING on qualified orders.', meta: {'title': 'A Short History of Nearly Everything: bill-bryson - Books', 'link': 'https://www.amazon.com/Short-History-Nearly-Everything/dp/0385408188'})], 'links': ['https://www.amazon.com/Short-History-Nearly-Everything/dp/076790818X', 'https://www.amazon.com/Really-Short-History-Nearly-Everything/dp/0385738102', 'https://www.amazon.com/Short-History-Nearly-Everything/dp/0385408188']}\u001b[0m\n",
      "INFO:haystack.core.pipeline.pipeline:Running component prompt_builder\n",
      "DEBUG:haystack.tracing.logging_tracer:Operation: haystack.component.run\n",
      "DEBUG:haystack.tracing.logging_tracer:\u001b[1;34mhaystack.component.name=prompt_builder\u001b[0m\n",
      "DEBUG:haystack.tracing.logging_tracer:haystack.component.type=PromptBuilder\u001b[0m\n",
      "DEBUG:haystack.tracing.logging_tracer:haystack.component.input_types={'query': 'str', 'template': 'NoneType', 'template_variables': 'NoneType', 'documents': 'list'}\u001b[0m\n",
      "DEBUG:haystack.tracing.logging_tracer:haystack.component.input_spec={'query': {'type': 'typing.Any', 'senders': []}, 'documents': {'type': 'typing.Any', 'senders': ['websearch']}, 'template': {'type': 'typing.Optional[str]', 'senders': []}, 'template_variables': {'type': 'typing.Optional[typing.Dict[str, typing.Any]]', 'senders': []}}\u001b[0m\n",
      "DEBUG:haystack.tracing.logging_tracer:haystack.component.output_spec={'prompt': {'type': 'str', 'receivers': ['llm']}}\u001b[0m\n",
      "DEBUG:haystack.tracing.logging_tracer:\u001b[1;31mhaystack.component.input={'query': 'What is the price of A Short History of Nearly Everything on Amazon? Respond with minimal item name and minimum price.', 'template': None, 'template_variables': None, 'documents': [Document(id=2599cebb50992722f822e32359281874828f2c048cac3cf2d6e1aca91c8c5ddb, content: 'Buy New. -45% $13.29$13.29. FREE delivery Sunday, January 5 on orders shipped by Amazon over $35. Sh...', meta: {'title': 'A Short History of Nearly Everything: Bryson, Bill - Amazon.com', 'link': 'https://www.amazon.com/Short-History-Nearly-Everything/dp/076790818X'}), Document(id=1cdca0b6cdec5ea371883af62bbe2fc6c7f726add38760978786443018929030, content: 'A Really Short History of Nearly Everything [Bryson, Bill] on Amazon ... What do customers buy after...', meta: {'title': 'A Really Short History of Nearly Everything: Bryson, Bill', 'link': 'https://www.amazon.com/Really-Short-History-Nearly-Everything/dp/0385738102'}), Document(id=d1e45fc542b2d270a097a87e09e96d20fe88c17456b94e98abd444fdd797ef03, content: 'Buy A Short History of Nearly Everything on Amazon.com ✓ FREE SHIPPING on qualified orders.', meta: {'title': 'A Short History of Nearly Everything: bill-bryson - Books', 'link': 'https://www.amazon.com/Short-History-Nearly-Everything/dp/0385408188'})]}\u001b[0m\n",
      "DEBUG:haystack.tracing.logging_tracer:haystack.component.visits=1\u001b[0m\n",
      "DEBUG:haystack.tracing.logging_tracer:haystack.component.output={'prompt': '\\n    Given these documents, answer the question.\\nDocuments:\\n    \\n        Buy New. -45% $13.29$13.29. FREE delivery Sunday, January 5 on orders shipped by Amazon over $35. Ships from: Amazon.com · Return this item for free · Save with\\xa0...\\n    \\n        A Really Short History of Nearly Everything [Bryson, Bill] on Amazon ... What do customers buy after viewing this item? Lowest Price. in this set of\\xa0...\\n    \\n        Buy A Short History of Nearly Everything on Amazon.com ✓ FREE SHIPPING on qualified orders.\\n    \\n\\n    \\nQuestion: What is the price of A Short History of Nearly Everything on Amazon? Respond with minimal item name and minimum price.\\n    \\nAnswer:\\n    '}\u001b[0m\n",
      "INFO:haystack.core.pipeline.pipeline:Running component llm\n",
      "DEBUG:haystack.tracing.logging_tracer:Operation: haystack.component.run\n",
      "DEBUG:haystack.tracing.logging_tracer:\u001b[1;34mhaystack.component.name=llm\u001b[0m\n",
      "DEBUG:haystack.tracing.logging_tracer:haystack.component.type=OpenAIGenerator\u001b[0m\n",
      "DEBUG:haystack.tracing.logging_tracer:haystack.component.input_types={'system_prompt': 'NoneType', 'streaming_callback': 'NoneType', 'generation_kwargs': 'NoneType', 'prompt': 'str'}\u001b[0m\n",
      "DEBUG:haystack.tracing.logging_tracer:haystack.component.input_spec={'prompt': {'type': 'str', 'senders': ['prompt_builder']}, 'system_prompt': {'type': 'typing.Optional[str]', 'senders': []}, 'streaming_callback': {'type': 'typing.Optional[typing.Callable[[haystack.dataclasses.streaming_chunk.StreamingChunk], NoneType]]', 'senders': []}, 'generation_kwargs': {'type': 'typing.Optional[typing.Dict[str, typing.Any]]', 'senders': []}}\u001b[0m\n",
      "DEBUG:haystack.tracing.logging_tracer:haystack.component.output_spec={'replies': {'type': 'typing.List[str]', 'receivers': []}, 'meta': {'type': 'typing.List[typing.Dict[str, typing.Any]]', 'receivers': []}}\u001b[0m\n",
      "DEBUG:haystack.tracing.logging_tracer:\u001b[1;31mhaystack.component.input={'system_prompt': None, 'streaming_callback': None, 'generation_kwargs': None, 'prompt': '\\n    Given these documents, answer the question.\\nDocuments:\\n    \\n        Buy New. -45% $13.29$13.29. FREE delivery Sunday, January 5 on orders shipped by Amazon over $35. Ships from: Amazon.com · Return this item for free · Save with\\xa0...\\n    \\n        A Really Short History of Nearly Everything [Bryson, Bill] on Amazon ... What do customers buy after viewing this item? Lowest Price. in this set of\\xa0...\\n    \\n        Buy A Short History of Nearly Everything on Amazon.com ✓ FREE SHIPPING on qualified orders.\\n    \\n\\n    \\nQuestion: What is the price of A Short History of Nearly Everything on Amazon? Respond with minimal item name and minimum price.\\n    \\nAnswer:\\n    '}\u001b[0m\n",
      "DEBUG:haystack.tracing.logging_tracer:haystack.component.visits=1\u001b[0m\n",
      "DEBUG:haystack.tracing.logging_tracer:haystack.component.output={'replies': ['A Short History of Nearly Everything - $13.29'], 'meta': [{'model': 'gpt-4o-mini-2024-07-18', 'index': 0, 'finish_reason': 'stop', 'usage': {'completion_tokens': 12, 'prompt_tokens': 154, 'total_tokens': 166, 'completion_tokens_details': CompletionTokensDetails(accepted_prediction_tokens=0, audio_tokens=0, reasoning_tokens=0, rejected_prediction_tokens=0), 'prompt_tokens_details': PromptTokensDetails(audio_tokens=0, cached_tokens=0)}}]}\u001b[0m\n",
      "DEBUG:haystack.tracing.logging_tracer:Operation: haystack.pipeline.run\n",
      "DEBUG:haystack.tracing.logging_tracer:haystack.pipeline.input_data={'websearch': {'query': 'price of A Short History of Nearly Everything on Amazon'}, 'prompt_builder': {'query': 'What is the price of A Short History of Nearly Everything on Amazon? Respond with minimal item name and minimum price.', 'template': None, 'template_variables': None}}\u001b[0m\n",
      "DEBUG:haystack.tracing.logging_tracer:haystack.pipeline.output_data={'websearch': {'links': ['https://www.amazon.com/Short-History-Nearly-Everything/dp/076790818X', 'https://www.amazon.com/Really-Short-History-Nearly-Everything/dp/0385738102', 'https://www.amazon.com/Short-History-Nearly-Everything/dp/0385408188']}, 'llm': {'replies': ['A Short History of Nearly Everything - $13.29'], 'meta': [{'model': 'gpt-4o-mini-2024-07-18', 'index': 0, 'finish_reason': 'stop', 'usage': {'completion_tokens': 12, 'prompt_tokens': 154, 'total_tokens': 166, 'completion_tokens_details': CompletionTokensDetails(accepted_prediction_tokens=0, audio_tokens=0, reasoning_tokens=0, rejected_prediction_tokens=0), 'prompt_tokens_details': PromptTokensDetails(audio_tokens=0, cached_tokens=0)}}]}}\u001b[0m\n",
      "DEBUG:haystack.tracing.logging_tracer:haystack.pipeline.metadata={}\u001b[0m\n",
      "DEBUG:haystack.tracing.logging_tracer:haystack.pipeline.max_runs_per_component=100\u001b[0m\n"
     ]
    },
    {
     "data": {
      "application/vnd.google.colaboratory.intrinsic+json": {
       "type": "string"
      },
      "text/plain": [
       "'A Short History of Nearly Everything - $13.29'"
      ]
     },
     "execution_count": 46,
     "metadata": {},
     "output_type": "execute_result"
    }
   ],
   "source": [
    "get_price(\"A Short History of Nearly Everything\")"
   ]
  },
  {
   "cell_type": "code",
   "execution_count": 47,
   "metadata": {
    "id": "mCtifdTBFiAj"
   },
   "outputs": [],
   "source": [
    "get_price_tool = Tool.from_function(get_price)"
   ]
  },
  {
   "cell_type": "code",
   "execution_count": 48,
   "metadata": {
    "colab": {
     "base_uri": "https://localhost:8080/"
    },
    "id": "EDEQFQEnFbM0",
    "outputId": "69e32e0d-d3fb-4772-da45-2f22c90f5880"
   },
   "outputs": [
    {
     "name": "stdout",
     "output_type": "stream",
     "text": [
      "Tool(name='get_price',\n",
      "     description='\\n  Search the web to get the price of an item on Amazon\\n  ',\n",
      "     parameters={'properties': {'item_name': {'description': 'The item name to '\n",
      "                                                             'search',\n",
      "                                              'type': 'string'}},\n",
      "                 'required': ['item_name'],\n",
      "                 'type': 'object'},\n",
      "     function=<function get_price at 0x7d2f1ad98ee0>)\n"
     ]
    }
   ],
   "source": [
    "pprint(get_price_tool)"
   ]
  },
  {
   "cell_type": "markdown",
   "metadata": {
    "id": "DOXel_47pDCU"
   },
   "source": [
    "### Buy from Amazon tool\n",
    "\n",
    "This tool is ready to use.\n",
    "\n",
    "It asks the user for confirmation and then simulates a purchase on Amazon. It also adds items to the inventory."
   ]
  },
  {
   "cell_type": "code",
   "execution_count": 49,
   "metadata": {
    "id": "wld2pQKGFtVD"
   },
   "outputs": [],
   "source": [
    "def buy_from_amazon(\n",
    "    item_name: Annotated[str, \"The item name to search\"],\n",
    "    price: Annotated[float, \"The price of the item to buy\"],\n",
    "    units: Annotated[int, \"The number of units to buy\"] = 1,\n",
    "):\n",
    "    \"\"\"\n",
    "    Buy an item from Amazon and place it in the inventory.\n",
    "    \"\"\"\n",
    "\n",
    "    total_price = units * price\n",
    "    confirm = input(\n",
    "        f\"You are about to buy {units} units of {item_name} from Amazon for a total of ${total_price}. Are you sure you want to continue? (y/n)\"\n",
    "    )\n",
    "    if confirm == \"y\":\n",
    "        # simulate actually buying from Amazon\n",
    "        add_item_to_inventory(item_name, units=units, origin=\"Amazon\")\n",
    "        return \"transaction completed and item added to inventory\"\n",
    "\n",
    "    return \"transaction cancelled\""
   ]
  },
  {
   "cell_type": "code",
   "execution_count": 50,
   "metadata": {
    "id": "NExtECudOas3"
   },
   "outputs": [],
   "source": [
    "buy_from_amazon_tool = Tool.from_function(buy_from_amazon)"
   ]
  },
  {
   "cell_type": "code",
   "execution_count": 51,
   "metadata": {
    "colab": {
     "base_uri": "https://localhost:8080/"
    },
    "id": "0PvzHou9FeQu",
    "outputId": "3b2a3139-0516-493d-b15d-0d6640bd9cb6"
   },
   "outputs": [
    {
     "name": "stdout",
     "output_type": "stream",
     "text": [
      "Tool(name='buy_from_amazon',\n",
      "     description='\\n'\n",
      "                 '    Buy an item from Amazon and place it in the inventory.\\n'\n",
      "                 '    ',\n",
      "     parameters={'properties': {'item_name': {'description': 'The item name to '\n",
      "                                                             'search',\n",
      "                                              'type': 'string'},\n",
      "                                'price': {'description': 'The price of the '\n",
      "                                                         'item to buy',\n",
      "                                          'type': 'number'},\n",
      "                                'units': {'default': 1,\n",
      "                                          'description': 'The number of units '\n",
      "                                                         'to buy',\n",
      "                                          'type': 'integer'}},\n",
      "                 'required': ['item_name', 'price'],\n",
      "                 'type': 'object'},\n",
      "     function=<function buy_from_amazon at 0x7d2f1ad992d0>)\n"
     ]
    }
   ],
   "source": [
    "pprint(buy_from_amazon_tool)"
   ]
  },
  {
   "cell_type": "code",
   "execution_count": 52,
   "metadata": {
    "colab": {
     "base_uri": "https://localhost:8080/",
     "height": 53
    },
    "id": "RqOeo2hpFyku",
    "outputId": "721a3b1c-2ecb-480a-c282-835e513c3083"
   },
   "outputs": [
    {
     "name": "stdout",
     "output_type": "stream",
     "text": [
      "You are about to buy 5 units of Playstation 5 from Amazon for a total of $2500.0. Are you sure you want to continue? (y/n)n\n"
     ]
    },
    {
     "data": {
      "application/vnd.google.colaboratory.intrinsic+json": {
       "type": "string"
      },
      "text/plain": [
       "'transaction cancelled'"
      ]
     },
     "execution_count": 52,
     "metadata": {},
     "output_type": "execute_result"
    }
   ],
   "source": [
    "buy_from_amazon(item_name=\"Playstation 5\", price=500.00, units=5)"
   ]
  },
  {
   "cell_type": "code",
   "execution_count": 53,
   "metadata": {
    "colab": {
     "base_uri": "https://localhost:8080/",
     "height": 53
    },
    "id": "im77S0CjOk0B",
    "outputId": "aed7d4fe-c49e-47c4-a804-d1ff5b804953"
   },
   "outputs": [
    {
     "name": "stdout",
     "output_type": "stream",
     "text": [
      "You are about to buy 5 units of Playstation 5 from Amazon for a total of $2500.0. Are you sure you want to continue? (y/n)y\n"
     ]
    },
    {
     "data": {
      "application/vnd.google.colaboratory.intrinsic+json": {
       "type": "string"
      },
      "text/plain": [
       "'transaction completed and item added to inventory'"
      ]
     },
     "execution_count": 53,
     "metadata": {},
     "output_type": "execute_result"
    }
   ],
   "source": [
    "buy_from_amazon(item_name=\"Playstation 5\", price=500.00, units=5)"
   ]
  },
  {
   "cell_type": "code",
   "execution_count": 54,
   "metadata": {
    "colab": {
     "base_uri": "https://localhost:8080/"
    },
    "id": "Rlhk9sEZFovR",
    "outputId": "fa38a275-5c5f-4306-bd3d-c010a1e519b3"
   },
   "outputs": [
    {
     "name": "stdout",
     "output_type": "stream",
     "text": [
      "name: Wooden Sailboat; units: 124; origin: handmade\n",
      "name: Nintendo Switch; units: 2189; origin: Amazon\n",
      "name: Hand-Knitted Teddy Bear; units: 233; origin: handmade\n",
      "name: Barbie Dreamhouse; units: 1673; origin: Amazon\n",
      "name: Carved Wooden Puzzle; units: 179; origin: handmade\n",
      "name: Remote Control Drone; units: 1542; origin: Amazon\n",
      "name: Painted Rocking Horse; units: 93; origin: handmade\n",
      "name: Science Experiment Kit; units: 2077; origin: Amazon\n",
      "name: Miniature Dollhouse; units: 110; origin: handmade\n",
      "name: Nerf Blaster; units: 2731; origin: Amazon\n",
      "name: Interactive Robot Pet; units: 1394; origin: Amazon\n",
      "name: LEGO Star Wars Set; units: 3455; origin: Amazon\n",
      "name: Playstation 5; units: 5; origin: Amazon\n"
     ]
    }
   ],
   "source": [
    "print(inventory_summary_tool.invoke())"
   ]
  },
  {
   "cell_type": "markdown",
   "metadata": {
    "id": "li21BqZesFft"
   },
   "source": [
    "## 5) Main loop\n",
    "\n",
    "This part controls the flow of the application.\n",
    "It is quite simple and you can use to see the Agent in action and check that everything is working properly. For the Agent, you will use the experimental versions of `OpenAIChatGenerator` and `ChatMessage`.\n",
    "\n",
    "**Note:** You can use experimental versions of `OllamaChatGenerator`, `HuggingFaceAPIChatGenerator` and `AnthropicChatGenerator` instead of `OpenAIChatGenerator`. See all experimental `Generators` [here](https://github.com/deepset-ai/haystack-experimental/tree/main/haystack_experimental/components/generators)\n",
    "\n",
    "To understand what's happening, it is important to be familiar with the experimental `ChatMessage` dataclass (see this [Cookbook: Define & Run Tools](https://haystack.deepset.ai/cookbook/tools_support)).\n",
    "\n",
    "---\n",
    "\n",
    "If every missing part has been implemented correctly, the Agent should be able to answer questions and perform actions like the following:\n",
    "```\n",
    "What's in the inventory?\n",
    "I take 1300 Barbie Dreamhouse and 50 Wooden Sailboat\n",
    "Buy 50 Harry Potter and the Philosopher's Stone books from Amazon\n",
    "Buy 50 Doom 3 videogames; then I take 40 of them\n",
    "Price of Bose noise removing headphones\n",
    "I want to add 27 Wooden trains handmade by elves\n",
    "```"
   ]
  },
  {
   "cell_type": "code",
   "execution_count": 56,
   "metadata": {
    "colab": {
     "base_uri": "https://localhost:8080/"
    },
    "id": "6UoV7PAMOpaE",
    "outputId": "8bf5ae94-9f2f-4bc5-d491-27c838e7fea4"
   },
   "outputs": [
    {
     "name": "stdout",
     "output_type": "stream",
     "text": [
      "\n",
      "\n",
      "waiting for input (type 'exit' or 'quit' to stop)\n",
      "🧝: What's in the inventory?\n",
      "⌛ iterating...\n",
      "⌛ iterating...\n",
      "🤖: Ho ho ho! Here’s a jolly summary of our North Pole inventory! 🎄✨\n",
      "\n",
      "1. **Wooden Sailboat** - 124 units (Handmade)\n",
      "2. **Nintendo Switch** - 2,189 units (Amazon)\n",
      "3. **Hand-Knitted Teddy Bear** - 233 units (Handmade)\n",
      "4. **Barbie Dreamhouse** - 1,673 units (Amazon)\n",
      "5. **Carved Wooden Puzzle** - 179 units (Handmade)\n",
      "6. **Remote Control Drone** - 1,542 units (Amazon)\n",
      "7. **Painted Rocking Horse** - 93 units (Handmade)\n",
      "8. **Science Experiment Kit** - 2,077 units (Amazon)\n",
      "9. **Miniature Dollhouse** - 110 units (Handmade)\n",
      "10. **Nerf Blaster** - 2,731 units (Amazon)\n",
      "11. **Interactive Robot Pet** - 1,394 units (Amazon)\n",
      "12. **LEGO Star Wars Set** - 3,455 units (Amazon)\n",
      "13. **Playstation 5** - 5 units (Amazon)\n",
      "\n",
      "If you need anything special from Santa's workshop, just let me know! 🎅🎁\n",
      "\n",
      "\n",
      "waiting for input (type 'exit' or 'quit' to stop)\n",
      "🧝: I take 1300 Barbie Dreamhouse and 50 Wooden Sailboat\n",
      "⌛ iterating...\n",
      "⌛ iterating...\n",
      "🤖: Ho ho ho! 🎉 You've successfully taken 1,300 **Barbie Dreamhouses** and 50 **Wooden Sailboats** from Santa's inventory! \n",
      "\n",
      "If you need anything else or want to add more cheer to our toy collection, just give me a holler! 🎄🛷✨\n",
      "\n",
      "\n",
      "waiting for input (type 'exit' or 'quit' to stop)\n",
      "🧝: What's in the inventory?\n",
      "⌛ iterating...\n",
      "⌛ iterating...\n",
      "🤖: Ho ho ho! 🎄 Here's the updated inventory from Santa's magical stockpile! ✨\n",
      "\n",
      "1. **Nintendo Switch** - 2,189 units (Amazon)\n",
      "2. **Hand-Knitted Teddy Bear** - 233 units (Handmade)\n",
      "3. **Carved Wooden Puzzle** - 179 units (Handmade)\n",
      "4. **Remote Control Drone** - 1,542 units (Amazon)\n",
      "5. **Painted Rocking Horse** - 93 units (Handmade)\n",
      "6. **Science Experiment Kit** - 2,077 units (Amazon)\n",
      "7. **Miniature Dollhouse** - 110 units (Handmade)\n",
      "8. **Nerf Blaster** - 2,731 units (Amazon)\n",
      "9. **Interactive Robot Pet** - 1,394 units (Amazon)\n",
      "10. **LEGO Star Wars Set** - 3,455 units (Amazon)\n",
      "11. **Playstation 5** - 5 units (Amazon)\n",
      "12. **Barbie Dreamhouse** - 373 units (Amazon)\n",
      "13. **Wooden Sailboat** - 74 units (Handmade)\n",
      "\n",
      "If you're feeling festive and want anything else, just say the word! 🎅🎁🎊\n",
      "\n",
      "\n",
      "waiting for input (type 'exit' or 'quit' to stop)\n",
      "🧝: Buy 50 Harry Potter and the Philosopher's Stone books from Amazon\n",
      "⌛ iterating...\n"
     ]
    },
    {
     "name": "stderr",
     "output_type": "stream",
     "text": [
      "INFO:haystack.core.pipeline.pipeline:Running component websearch\n",
      "DEBUG:haystack.tracing.logging_tracer:Operation: haystack.component.run\n",
      "DEBUG:haystack.tracing.logging_tracer:\u001b[1;34mhaystack.component.name=websearch\u001b[0m\n",
      "DEBUG:haystack.tracing.logging_tracer:haystack.component.type=DuckduckgoApiWebSearch\u001b[0m\n",
      "DEBUG:haystack.tracing.logging_tracer:haystack.component.input_types={'query': 'str'}\u001b[0m\n",
      "DEBUG:haystack.tracing.logging_tracer:haystack.component.input_spec={'query': {'type': 'str', 'senders': []}}\u001b[0m\n",
      "DEBUG:haystack.tracing.logging_tracer:haystack.component.output_spec={'documents': {'type': 'typing.List[haystack.dataclasses.document.Document]', 'receivers': ['prompt_builder']}, 'links': {'type': 'typing.List[str]', 'receivers': []}}\u001b[0m\n",
      "DEBUG:haystack.tracing.logging_tracer:\u001b[1;31mhaystack.component.input={'query': \"price of Harry Potter and the Philosopher's Stone book on Amazon\"}\u001b[0m\n",
      "DEBUG:haystack.tracing.logging_tracer:haystack.component.visits=1\u001b[0m\n",
      "DEBUG:haystack.tracing.logging_tracer:haystack.component.output={'documents': [Document(id=d5be26712701c91181d2f524464520a1c57ecf89cd2714f22cb40309b7de733f, content: 'Reading age · Buy New. -79% $10.55$10.55. $3.99 delivery January 14 - 23. Ships from: Prime Deals, U...', meta: {'title': \"Harry Potter and the Philosopher's Stone: Rowling J.K.\", 'link': 'https://www.amazon.com/Harry-Potter-Philosophers-Stone-Rowling/dp/1408855658'}), Document(id=84a52cd0e3bf25206ab22c9e4b526dcfb8013f7af09e8cb70e11206d44e94dd1, content: 'Harry Potter and the Philosopher's Stone [Rowling, J. K., Grandpré, Mary] on Amazon.com. *FREE* ship...', meta: {'title': \"Harry Potter and the Philosopher's Stone - Books - Amazon.com\", 'link': 'https://www.amazon.com/Harry-Potter-Philosophers-Stone-Rowling/dp/0747532745'}), Document(id=f62b08eb8e9c39cf861e71c886cd59cc89eab4cce7462bf5d211fbadb7b3f07d, content: 'FREE delivery February 9 - 11 on orders shipped by Amazon over $35 ; Or fastest delivery February 6 ...', meta: {'title': \"Harry Potter and the Sorcerer's Stone - Amazon.com\", 'link': 'https://www.amazon.com/Harry-Potter-Sorcerers-Stone-Rowling/dp/059035342X'})], 'links': ['https://www.amazon.com/Harry-Potter-Philosophers-Stone-Rowling/dp/1408855658', 'https://www.amazon.com/Harry-Potter-Philosophers-Stone-Rowling/dp/0747532745', 'https://www.amazon.com/Harry-Potter-Sorcerers-Stone-Rowling/dp/059035342X']}\u001b[0m\n",
      "INFO:haystack.core.pipeline.pipeline:Running component prompt_builder\n",
      "DEBUG:haystack.tracing.logging_tracer:Operation: haystack.component.run\n",
      "DEBUG:haystack.tracing.logging_tracer:\u001b[1;34mhaystack.component.name=prompt_builder\u001b[0m\n",
      "DEBUG:haystack.tracing.logging_tracer:haystack.component.type=PromptBuilder\u001b[0m\n",
      "DEBUG:haystack.tracing.logging_tracer:haystack.component.input_types={'query': 'str', 'template': 'NoneType', 'template_variables': 'NoneType', 'documents': 'list'}\u001b[0m\n",
      "DEBUG:haystack.tracing.logging_tracer:haystack.component.input_spec={'query': {'type': 'typing.Any', 'senders': []}, 'documents': {'type': 'typing.Any', 'senders': ['websearch']}, 'template': {'type': 'typing.Optional[str]', 'senders': []}, 'template_variables': {'type': 'typing.Optional[typing.Dict[str, typing.Any]]', 'senders': []}}\u001b[0m\n",
      "DEBUG:haystack.tracing.logging_tracer:haystack.component.output_spec={'prompt': {'type': 'str', 'receivers': ['llm']}}\u001b[0m\n",
      "DEBUG:haystack.tracing.logging_tracer:\u001b[1;31mhaystack.component.input={'query': \"What is the price of Harry Potter and the Philosopher's Stone book on Amazon? Respond with minimal item name and minimum price.\", 'template': None, 'template_variables': None, 'documents': [Document(id=d5be26712701c91181d2f524464520a1c57ecf89cd2714f22cb40309b7de733f, content: 'Reading age · Buy New. -79% $10.55$10.55. $3.99 delivery January 14 - 23. Ships from: Prime Deals, U...', meta: {'title': \"Harry Potter and the Philosopher's Stone: Rowling J.K.\", 'link': 'https://www.amazon.com/Harry-Potter-Philosophers-Stone-Rowling/dp/1408855658'}), Document(id=84a52cd0e3bf25206ab22c9e4b526dcfb8013f7af09e8cb70e11206d44e94dd1, content: 'Harry Potter and the Philosopher's Stone [Rowling, J. K., Grandpré, Mary] on Amazon.com. *FREE* ship...', meta: {'title': \"Harry Potter and the Philosopher's Stone - Books - Amazon.com\", 'link': 'https://www.amazon.com/Harry-Potter-Philosophers-Stone-Rowling/dp/0747532745'}), Document(id=f62b08eb8e9c39cf861e71c886cd59cc89eab4cce7462bf5d211fbadb7b3f07d, content: 'FREE delivery February 9 - 11 on orders shipped by Amazon over $35 ; Or fastest delivery February 6 ...', meta: {'title': \"Harry Potter and the Sorcerer's Stone - Amazon.com\", 'link': 'https://www.amazon.com/Harry-Potter-Sorcerers-Stone-Rowling/dp/059035342X'})]}\u001b[0m\n",
      "DEBUG:haystack.tracing.logging_tracer:haystack.component.visits=1\u001b[0m\n",
      "DEBUG:haystack.tracing.logging_tracer:haystack.component.output={'prompt': \"\\n    Given these documents, answer the question.\\nDocuments:\\n    \\n        Reading age · Buy New. -79% $10.55$10.55. $3.99 delivery January 14 - 23. Ships from: Prime Deals, USA. Sold by: Prime Deals, USA · Save with Used - Good. $7.90$7\\xa0...\\n    \\n        Harry Potter and the Philosopher's Stone [Rowling, J. K., Grandpré, Mary] on Amazon.com. *FREE* shipping on qualifying offers. Harry Potter and the\\xa0...\\n    \\n        FREE delivery February 9 - 11 on orders shipped by Amazon over $35 ; Or fastest delivery February 6 - 8 ; Reading age. 8+ years, from customers ; Book 1 of 7.\\n    \\n\\n    \\nQuestion: What is the price of Harry Potter and the Philosopher's Stone book on Amazon? Respond with minimal item name and minimum price.\\n    \\nAnswer:\\n    \"}\u001b[0m\n",
      "INFO:haystack.core.pipeline.pipeline:Running component llm\n",
      "DEBUG:haystack.tracing.logging_tracer:Operation: haystack.component.run\n",
      "DEBUG:haystack.tracing.logging_tracer:\u001b[1;34mhaystack.component.name=llm\u001b[0m\n",
      "DEBUG:haystack.tracing.logging_tracer:haystack.component.type=OpenAIGenerator\u001b[0m\n",
      "DEBUG:haystack.tracing.logging_tracer:haystack.component.input_types={'system_prompt': 'NoneType', 'streaming_callback': 'NoneType', 'generation_kwargs': 'NoneType', 'prompt': 'str'}\u001b[0m\n",
      "DEBUG:haystack.tracing.logging_tracer:haystack.component.input_spec={'prompt': {'type': 'str', 'senders': ['prompt_builder']}, 'system_prompt': {'type': 'typing.Optional[str]', 'senders': []}, 'streaming_callback': {'type': 'typing.Optional[typing.Callable[[haystack.dataclasses.streaming_chunk.StreamingChunk], NoneType]]', 'senders': []}, 'generation_kwargs': {'type': 'typing.Optional[typing.Dict[str, typing.Any]]', 'senders': []}}\u001b[0m\n",
      "DEBUG:haystack.tracing.logging_tracer:haystack.component.output_spec={'replies': {'type': 'typing.List[str]', 'receivers': []}, 'meta': {'type': 'typing.List[typing.Dict[str, typing.Any]]', 'receivers': []}}\u001b[0m\n",
      "DEBUG:haystack.tracing.logging_tracer:\u001b[1;31mhaystack.component.input={'system_prompt': None, 'streaming_callback': None, 'generation_kwargs': None, 'prompt': \"\\n    Given these documents, answer the question.\\nDocuments:\\n    \\n        Reading age · Buy New. -79% $10.55$10.55. $3.99 delivery January 14 - 23. Ships from: Prime Deals, USA. Sold by: Prime Deals, USA · Save with Used - Good. $7.90$7\\xa0...\\n    \\n        Harry Potter and the Philosopher's Stone [Rowling, J. K., Grandpré, Mary] on Amazon.com. *FREE* shipping on qualifying offers. Harry Potter and the\\xa0...\\n    \\n        FREE delivery February 9 - 11 on orders shipped by Amazon over $35 ; Or fastest delivery February 6 - 8 ; Reading age. 8+ years, from customers ; Book 1 of 7.\\n    \\n\\n    \\nQuestion: What is the price of Harry Potter and the Philosopher's Stone book on Amazon? Respond with minimal item name and minimum price.\\n    \\nAnswer:\\n    \"}\u001b[0m\n",
      "DEBUG:haystack.tracing.logging_tracer:haystack.component.visits=1\u001b[0m\n",
      "DEBUG:haystack.tracing.logging_tracer:haystack.component.output={'replies': [\"Harry Potter and the Philosopher's Stone $10.55\"], 'meta': [{'model': 'gpt-4o-mini-2024-07-18', 'index': 0, 'finish_reason': 'stop', 'usage': {'completion_tokens': 13, 'prompt_tokens': 203, 'total_tokens': 216, 'completion_tokens_details': CompletionTokensDetails(accepted_prediction_tokens=0, audio_tokens=0, reasoning_tokens=0, rejected_prediction_tokens=0), 'prompt_tokens_details': PromptTokensDetails(audio_tokens=0, cached_tokens=0)}}]}\u001b[0m\n",
      "DEBUG:haystack.tracing.logging_tracer:Operation: haystack.pipeline.run\n",
      "DEBUG:haystack.tracing.logging_tracer:haystack.pipeline.input_data={'websearch': {'query': \"price of Harry Potter and the Philosopher's Stone book on Amazon\"}, 'prompt_builder': {'query': \"What is the price of Harry Potter and the Philosopher's Stone book on Amazon? Respond with minimal item name and minimum price.\", 'template': None, 'template_variables': None}}\u001b[0m\n",
      "DEBUG:haystack.tracing.logging_tracer:haystack.pipeline.output_data={'websearch': {'links': ['https://www.amazon.com/Harry-Potter-Philosophers-Stone-Rowling/dp/1408855658', 'https://www.amazon.com/Harry-Potter-Philosophers-Stone-Rowling/dp/0747532745', 'https://www.amazon.com/Harry-Potter-Sorcerers-Stone-Rowling/dp/059035342X']}, 'llm': {'replies': [\"Harry Potter and the Philosopher's Stone $10.55\"], 'meta': [{'model': 'gpt-4o-mini-2024-07-18', 'index': 0, 'finish_reason': 'stop', 'usage': {'completion_tokens': 13, 'prompt_tokens': 203, 'total_tokens': 216, 'completion_tokens_details': CompletionTokensDetails(accepted_prediction_tokens=0, audio_tokens=0, reasoning_tokens=0, rejected_prediction_tokens=0), 'prompt_tokens_details': PromptTokensDetails(audio_tokens=0, cached_tokens=0)}}]}}\u001b[0m\n",
      "DEBUG:haystack.tracing.logging_tracer:haystack.pipeline.metadata={}\u001b[0m\n",
      "DEBUG:haystack.tracing.logging_tracer:haystack.pipeline.max_runs_per_component=100\u001b[0m\n"
     ]
    },
    {
     "name": "stdout",
     "output_type": "stream",
     "text": [
      "⌛ iterating...\n",
      "You are about to buy 50 units of Harry Potter and the Philosopher's Stone book from Amazon for a total of $527.5. Are you sure you want to continue? (y/n)y\n",
      "⌛ iterating...\n",
      "🤖: Jingle bells! 🎉 You've successfully bought 50 copies of **Harry Potter and the Philosopher's Stone** from Amazon! Now that's a magical addition to Santa's inventory! 🎄📚\n",
      "\n",
      "If you have more wishes to fulfill or need anything else, just let me know! 🎅✨\n",
      "\n",
      "\n",
      "waiting for input (type 'exit' or 'quit' to stop)\n",
      "🧝: Buy 50 Doom 3 videogames; then I take 40 of them\n",
      "⌛ iterating...\n"
     ]
    },
    {
     "name": "stderr",
     "output_type": "stream",
     "text": [
      "INFO:haystack.core.pipeline.pipeline:Running component websearch\n",
      "DEBUG:haystack.tracing.logging_tracer:Operation: haystack.component.run\n",
      "DEBUG:haystack.tracing.logging_tracer:\u001b[1;34mhaystack.component.name=websearch\u001b[0m\n",
      "DEBUG:haystack.tracing.logging_tracer:haystack.component.type=DuckduckgoApiWebSearch\u001b[0m\n",
      "DEBUG:haystack.tracing.logging_tracer:haystack.component.input_types={'query': 'str'}\u001b[0m\n",
      "DEBUG:haystack.tracing.logging_tracer:haystack.component.input_spec={'query': {'type': 'str', 'senders': []}}\u001b[0m\n",
      "DEBUG:haystack.tracing.logging_tracer:haystack.component.output_spec={'documents': {'type': 'typing.List[haystack.dataclasses.document.Document]', 'receivers': ['prompt_builder']}, 'links': {'type': 'typing.List[str]', 'receivers': []}}\u001b[0m\n",
      "DEBUG:haystack.tracing.logging_tracer:\u001b[1;31mhaystack.component.input={'query': 'price of Doom 3 video game on Amazon'}\u001b[0m\n",
      "DEBUG:haystack.tracing.logging_tracer:haystack.component.visits=1\u001b[0m\n",
      "DEBUG:haystack.tracing.logging_tracer:haystack.component.output={'documents': [Document(id=d4e4ea2f48947b1142b10c6a04d7c72b7b6ecaa7013ddc8f1272e85e04fe9447, content: 'Doom 3 ; Payment. Secure transaction ; This title has been rated Mature ; Features & details · First...', meta: {'title': 'Doom 3 : Unknown: Video Games - Amazon.com', 'link': 'https://www.amazon.com/Doom-3-pc/dp/B00006C2HA'}), Document(id=f6cc22b970e97fd0f00d86d527380876dde4505c0dbc75b4f0b278d6e0b78211, content: 'Doom 3 ; Is Discontinued By Manufacturer: Yes ; Product Dimensions: 7.5 x 5.5 x 0.75 inches; 4.8 oun...', meta: {'title': 'Doom 3 : Unknown: Video Games - Amazon.com', 'link': 'https://www.amazon.com/Doom-3-Xbox/dp/B0001KUE7S'}), Document(id=b7ef476ce57dbb9a6e048c48d70d8d09d7f9ce46f3fa2ef323f6b4bb55e8c44d, content: 'Doom 3 BFG Edition is the ultimate collection of groundbreaking games that defined the first person ...', meta: {'title': 'Amazon.com: Doom 3 - Xbox 360 BFG Edition', 'link': 'https://www.amazon.com/Doom-3-BFG-microsoft-xbox-360/dp/B008E6ZXRM'})], 'links': ['https://www.amazon.com/Doom-3-pc/dp/B00006C2HA', 'https://www.amazon.com/Doom-3-Xbox/dp/B0001KUE7S', 'https://www.amazon.com/Doom-3-BFG-microsoft-xbox-360/dp/B008E6ZXRM']}\u001b[0m\n",
      "INFO:haystack.core.pipeline.pipeline:Running component prompt_builder\n",
      "DEBUG:haystack.tracing.logging_tracer:Operation: haystack.component.run\n",
      "DEBUG:haystack.tracing.logging_tracer:\u001b[1;34mhaystack.component.name=prompt_builder\u001b[0m\n",
      "DEBUG:haystack.tracing.logging_tracer:haystack.component.type=PromptBuilder\u001b[0m\n",
      "DEBUG:haystack.tracing.logging_tracer:haystack.component.input_types={'query': 'str', 'template': 'NoneType', 'template_variables': 'NoneType', 'documents': 'list'}\u001b[0m\n",
      "DEBUG:haystack.tracing.logging_tracer:haystack.component.input_spec={'query': {'type': 'typing.Any', 'senders': []}, 'documents': {'type': 'typing.Any', 'senders': ['websearch']}, 'template': {'type': 'typing.Optional[str]', 'senders': []}, 'template_variables': {'type': 'typing.Optional[typing.Dict[str, typing.Any]]', 'senders': []}}\u001b[0m\n",
      "DEBUG:haystack.tracing.logging_tracer:haystack.component.output_spec={'prompt': {'type': 'str', 'receivers': ['llm']}}\u001b[0m\n",
      "DEBUG:haystack.tracing.logging_tracer:\u001b[1;31mhaystack.component.input={'query': 'What is the price of Doom 3 video game on Amazon? Respond with minimal item name and minimum price.', 'template': None, 'template_variables': None, 'documents': [Document(id=d4e4ea2f48947b1142b10c6a04d7c72b7b6ecaa7013ddc8f1272e85e04fe9447, content: 'Doom 3 ; Payment. Secure transaction ; This title has been rated Mature ; Features & details · First...', meta: {'title': 'Doom 3 : Unknown: Video Games - Amazon.com', 'link': 'https://www.amazon.com/Doom-3-pc/dp/B00006C2HA'}), Document(id=f6cc22b970e97fd0f00d86d527380876dde4505c0dbc75b4f0b278d6e0b78211, content: 'Doom 3 ; Is Discontinued By Manufacturer: Yes ; Product Dimensions: 7.5 x 5.5 x 0.75 inches; 4.8 oun...', meta: {'title': 'Doom 3 : Unknown: Video Games - Amazon.com', 'link': 'https://www.amazon.com/Doom-3-Xbox/dp/B0001KUE7S'}), Document(id=b7ef476ce57dbb9a6e048c48d70d8d09d7f9ce46f3fa2ef323f6b4bb55e8c44d, content: 'Doom 3 BFG Edition is the ultimate collection of groundbreaking games that defined the first person ...', meta: {'title': 'Amazon.com: Doom 3 - Xbox 360 BFG Edition', 'link': 'https://www.amazon.com/Doom-3-BFG-microsoft-xbox-360/dp/B008E6ZXRM'})]}\u001b[0m\n",
      "DEBUG:haystack.tracing.logging_tracer:haystack.component.visits=1\u001b[0m\n",
      "DEBUG:haystack.tracing.logging_tracer:haystack.component.output={'prompt': '\\n    Given these documents, answer the question.\\nDocuments:\\n    \\n        Doom 3 ; Payment. Secure transaction ; This title has been rated Mature ; Features & details · First-person shooter ; Is Discontinued By Manufacturer: Yes ; Product\\xa0...\\n    \\n        Doom 3 ; Is Discontinued By Manufacturer: Yes ; Product Dimensions: 7.5 x 5.5 x 0.75 inches; 4.8 ounces ; Our Recommended age: 17 - 20 years ; Item model number:\\xa0...\\n    \\n        Doom 3 BFG Edition is the ultimate collection of groundbreaking games that defined the first person shooter. Doom 3 BFG Edition will be available this Fall\\xa0...\\n    \\n\\n    \\nQuestion: What is the price of Doom 3 video game on Amazon? Respond with minimal item name and minimum price.\\n    \\nAnswer:\\n    '}\u001b[0m\n",
      "INFO:haystack.core.pipeline.pipeline:Running component llm\n",
      "DEBUG:haystack.tracing.logging_tracer:Operation: haystack.component.run\n",
      "DEBUG:haystack.tracing.logging_tracer:\u001b[1;34mhaystack.component.name=llm\u001b[0m\n",
      "DEBUG:haystack.tracing.logging_tracer:haystack.component.type=OpenAIGenerator\u001b[0m\n",
      "DEBUG:haystack.tracing.logging_tracer:haystack.component.input_types={'system_prompt': 'NoneType', 'streaming_callback': 'NoneType', 'generation_kwargs': 'NoneType', 'prompt': 'str'}\u001b[0m\n",
      "DEBUG:haystack.tracing.logging_tracer:haystack.component.input_spec={'prompt': {'type': 'str', 'senders': ['prompt_builder']}, 'system_prompt': {'type': 'typing.Optional[str]', 'senders': []}, 'streaming_callback': {'type': 'typing.Optional[typing.Callable[[haystack.dataclasses.streaming_chunk.StreamingChunk], NoneType]]', 'senders': []}, 'generation_kwargs': {'type': 'typing.Optional[typing.Dict[str, typing.Any]]', 'senders': []}}\u001b[0m\n",
      "DEBUG:haystack.tracing.logging_tracer:haystack.component.output_spec={'replies': {'type': 'typing.List[str]', 'receivers': []}, 'meta': {'type': 'typing.List[typing.Dict[str, typing.Any]]', 'receivers': []}}\u001b[0m\n",
      "DEBUG:haystack.tracing.logging_tracer:\u001b[1;31mhaystack.component.input={'system_prompt': None, 'streaming_callback': None, 'generation_kwargs': None, 'prompt': '\\n    Given these documents, answer the question.\\nDocuments:\\n    \\n        Doom 3 ; Payment. Secure transaction ; This title has been rated Mature ; Features & details · First-person shooter ; Is Discontinued By Manufacturer: Yes ; Product\\xa0...\\n    \\n        Doom 3 ; Is Discontinued By Manufacturer: Yes ; Product Dimensions: 7.5 x 5.5 x 0.75 inches; 4.8 ounces ; Our Recommended age: 17 - 20 years ; Item model number:\\xa0...\\n    \\n        Doom 3 BFG Edition is the ultimate collection of groundbreaking games that defined the first person shooter. Doom 3 BFG Edition will be available this Fall\\xa0...\\n    \\n\\n    \\nQuestion: What is the price of Doom 3 video game on Amazon? Respond with minimal item name and minimum price.\\n    \\nAnswer:\\n    '}\u001b[0m\n",
      "DEBUG:haystack.tracing.logging_tracer:haystack.component.visits=1\u001b[0m\n",
      "DEBUG:haystack.tracing.logging_tracer:haystack.component.output={'replies': ['Doom 3 - Price not provided in documents.'], 'meta': [{'model': 'gpt-4o-mini-2024-07-18', 'index': 0, 'finish_reason': 'stop', 'usage': {'completion_tokens': 12, 'prompt_tokens': 177, 'total_tokens': 189, 'completion_tokens_details': CompletionTokensDetails(accepted_prediction_tokens=0, audio_tokens=0, reasoning_tokens=0, rejected_prediction_tokens=0), 'prompt_tokens_details': PromptTokensDetails(audio_tokens=0, cached_tokens=0)}}]}\u001b[0m\n",
      "DEBUG:haystack.tracing.logging_tracer:Operation: haystack.pipeline.run\n",
      "DEBUG:haystack.tracing.logging_tracer:haystack.pipeline.input_data={'websearch': {'query': 'price of Doom 3 video game on Amazon'}, 'prompt_builder': {'query': 'What is the price of Doom 3 video game on Amazon? Respond with minimal item name and minimum price.', 'template': None, 'template_variables': None}}\u001b[0m\n",
      "DEBUG:haystack.tracing.logging_tracer:haystack.pipeline.output_data={'websearch': {'links': ['https://www.amazon.com/Doom-3-pc/dp/B00006C2HA', 'https://www.amazon.com/Doom-3-Xbox/dp/B0001KUE7S', 'https://www.amazon.com/Doom-3-BFG-microsoft-xbox-360/dp/B008E6ZXRM']}, 'llm': {'replies': ['Doom 3 - Price not provided in documents.'], 'meta': [{'model': 'gpt-4o-mini-2024-07-18', 'index': 0, 'finish_reason': 'stop', 'usage': {'completion_tokens': 12, 'prompt_tokens': 177, 'total_tokens': 189, 'completion_tokens_details': CompletionTokensDetails(accepted_prediction_tokens=0, audio_tokens=0, reasoning_tokens=0, rejected_prediction_tokens=0), 'prompt_tokens_details': PromptTokensDetails(audio_tokens=0, cached_tokens=0)}}]}}\u001b[0m\n",
      "DEBUG:haystack.tracing.logging_tracer:haystack.pipeline.metadata={}\u001b[0m\n",
      "DEBUG:haystack.tracing.logging_tracer:haystack.pipeline.max_runs_per_component=100\u001b[0m\n"
     ]
    },
    {
     "name": "stdout",
     "output_type": "stream",
     "text": [
      "⌛ iterating...\n"
     ]
    },
    {
     "name": "stderr",
     "output_type": "stream",
     "text": [
      "INFO:haystack.core.pipeline.pipeline:Running component websearch\n",
      "DEBUG:haystack.tracing.logging_tracer:Operation: haystack.component.run\n",
      "DEBUG:haystack.tracing.logging_tracer:\u001b[1;34mhaystack.component.name=websearch\u001b[0m\n",
      "DEBUG:haystack.tracing.logging_tracer:haystack.component.type=DuckduckgoApiWebSearch\u001b[0m\n",
      "DEBUG:haystack.tracing.logging_tracer:haystack.component.input_types={'query': 'str'}\u001b[0m\n",
      "DEBUG:haystack.tracing.logging_tracer:haystack.component.input_spec={'query': {'type': 'str', 'senders': []}}\u001b[0m\n",
      "DEBUG:haystack.tracing.logging_tracer:haystack.component.output_spec={'documents': {'type': 'typing.List[haystack.dataclasses.document.Document]', 'receivers': ['prompt_builder']}, 'links': {'type': 'typing.List[str]', 'receivers': []}}\u001b[0m\n",
      "DEBUG:haystack.tracing.logging_tracer:\u001b[1;31mhaystack.component.input={'query': 'price of Doom 3 on Amazon'}\u001b[0m\n",
      "DEBUG:haystack.tracing.logging_tracer:haystack.component.visits=1\u001b[0m\n",
      "DEBUG:haystack.tracing.logging_tracer:haystack.component.output={'documents': [Document(id=8c5db4a4506292f5b275f17fc7e97ef2e81b91b52cb43cc56a9e02263cc3b959, content: 'Doom III features an enhanced storyline and some award-winning graphics, sound, and bloodcurdling ac...', meta: {'title': 'Doom 3 : Unknown: Video Games - Amazon.com', 'link': 'https://www.amazon.com/Doom-3-pc/dp/B00006C2HA'}), Document(id=f6cc22b970e97fd0f00d86d527380876dde4505c0dbc75b4f0b278d6e0b78211, content: 'Doom 3 ; Is Discontinued By Manufacturer: Yes ; Product Dimensions: 7.5 x 5.5 x 0.75 inches; 4.8 oun...', meta: {'title': 'Doom 3 : Unknown: Video Games - Amazon.com', 'link': 'https://www.amazon.com/Doom-3-Xbox/dp/B0001KUE7S'}), Document(id=a60c11b1bb6e512f8593a39fd32c54519da0a3ffb2c99946160fed0c249dd0a1, content: 'Doom 3 BFG Edition - Announce Trailer · PlayStation 3. $17.99 with 10 percent savings$17.99. $19.91$...', meta: {'title': 'Amazon.com: Doom 3 - Xbox 360 BFG Edition', 'link': 'https://www.amazon.com/Doom-3-BFG-microsoft-xbox-360/dp/B008E6ZXRM'})], 'links': ['https://www.amazon.com/Doom-3-pc/dp/B00006C2HA', 'https://www.amazon.com/Doom-3-Xbox/dp/B0001KUE7S', 'https://www.amazon.com/Doom-3-BFG-microsoft-xbox-360/dp/B008E6ZXRM']}\u001b[0m\n",
      "INFO:haystack.core.pipeline.pipeline:Running component prompt_builder\n",
      "DEBUG:haystack.tracing.logging_tracer:Operation: haystack.component.run\n",
      "DEBUG:haystack.tracing.logging_tracer:\u001b[1;34mhaystack.component.name=prompt_builder\u001b[0m\n",
      "DEBUG:haystack.tracing.logging_tracer:haystack.component.type=PromptBuilder\u001b[0m\n",
      "DEBUG:haystack.tracing.logging_tracer:haystack.component.input_types={'query': 'str', 'template': 'NoneType', 'template_variables': 'NoneType', 'documents': 'list'}\u001b[0m\n",
      "DEBUG:haystack.tracing.logging_tracer:haystack.component.input_spec={'query': {'type': 'typing.Any', 'senders': []}, 'documents': {'type': 'typing.Any', 'senders': ['websearch']}, 'template': {'type': 'typing.Optional[str]', 'senders': []}, 'template_variables': {'type': 'typing.Optional[typing.Dict[str, typing.Any]]', 'senders': []}}\u001b[0m\n",
      "DEBUG:haystack.tracing.logging_tracer:haystack.component.output_spec={'prompt': {'type': 'str', 'receivers': ['llm']}}\u001b[0m\n",
      "DEBUG:haystack.tracing.logging_tracer:\u001b[1;31mhaystack.component.input={'query': 'What is the price of Doom 3 on Amazon? Respond with minimal item name and minimum price.', 'template': None, 'template_variables': None, 'documents': [Document(id=8c5db4a4506292f5b275f17fc7e97ef2e81b91b52cb43cc56a9e02263cc3b959, content: 'Doom III features an enhanced storyline and some award-winning graphics, sound, and bloodcurdling ac...', meta: {'title': 'Doom 3 : Unknown: Video Games - Amazon.com', 'link': 'https://www.amazon.com/Doom-3-pc/dp/B00006C2HA'}), Document(id=f6cc22b970e97fd0f00d86d527380876dde4505c0dbc75b4f0b278d6e0b78211, content: 'Doom 3 ; Is Discontinued By Manufacturer: Yes ; Product Dimensions: 7.5 x 5.5 x 0.75 inches; 4.8 oun...', meta: {'title': 'Doom 3 : Unknown: Video Games - Amazon.com', 'link': 'https://www.amazon.com/Doom-3-Xbox/dp/B0001KUE7S'}), Document(id=a60c11b1bb6e512f8593a39fd32c54519da0a3ffb2c99946160fed0c249dd0a1, content: 'Doom 3 BFG Edition - Announce Trailer · PlayStation 3. $17.99 with 10 percent savings$17.99. $19.91$...', meta: {'title': 'Amazon.com: Doom 3 - Xbox 360 BFG Edition', 'link': 'https://www.amazon.com/Doom-3-BFG-microsoft-xbox-360/dp/B008E6ZXRM'})]}\u001b[0m\n",
      "DEBUG:haystack.tracing.logging_tracer:haystack.component.visits=1\u001b[0m\n",
      "DEBUG:haystack.tracing.logging_tracer:haystack.component.output={'prompt': \"\\n    Given these documents, answer the question.\\nDocuments:\\n    \\n        Doom III features an enhanced storyline and some award-winning graphics, sound, and bloodcurdling action. the Union Aerospace Corporations' Mars Research\\xa0...\\n    \\n        Doom 3 ; Is Discontinued By Manufacturer: Yes ; Product Dimensions: 7.5 x 5.5 x 0.75 inches; 4.8 ounces ; Our Recommended age: 17 - 20 years ; Item model number:\\xa0...\\n    \\n        Doom 3 BFG Edition - Announce Trailer · PlayStation 3. $17.99 with 10 percent savings$17.99. $19.91$19.91. In Stock · Xbox 360. 30 options from $6.49\\xa0...\\n    \\n\\n    \\nQuestion: What is the price of Doom 3 on Amazon? Respond with minimal item name and minimum price.\\n    \\nAnswer:\\n    \"}\u001b[0m\n",
      "INFO:haystack.core.pipeline.pipeline:Running component llm\n",
      "DEBUG:haystack.tracing.logging_tracer:Operation: haystack.component.run\n",
      "DEBUG:haystack.tracing.logging_tracer:\u001b[1;34mhaystack.component.name=llm\u001b[0m\n",
      "DEBUG:haystack.tracing.logging_tracer:haystack.component.type=OpenAIGenerator\u001b[0m\n",
      "DEBUG:haystack.tracing.logging_tracer:haystack.component.input_types={'system_prompt': 'NoneType', 'streaming_callback': 'NoneType', 'generation_kwargs': 'NoneType', 'prompt': 'str'}\u001b[0m\n",
      "DEBUG:haystack.tracing.logging_tracer:haystack.component.input_spec={'prompt': {'type': 'str', 'senders': ['prompt_builder']}, 'system_prompt': {'type': 'typing.Optional[str]', 'senders': []}, 'streaming_callback': {'type': 'typing.Optional[typing.Callable[[haystack.dataclasses.streaming_chunk.StreamingChunk], NoneType]]', 'senders': []}, 'generation_kwargs': {'type': 'typing.Optional[typing.Dict[str, typing.Any]]', 'senders': []}}\u001b[0m\n",
      "DEBUG:haystack.tracing.logging_tracer:haystack.component.output_spec={'replies': {'type': 'typing.List[str]', 'receivers': []}, 'meta': {'type': 'typing.List[typing.Dict[str, typing.Any]]', 'receivers': []}}\u001b[0m\n",
      "DEBUG:haystack.tracing.logging_tracer:\u001b[1;31mhaystack.component.input={'system_prompt': None, 'streaming_callback': None, 'generation_kwargs': None, 'prompt': \"\\n    Given these documents, answer the question.\\nDocuments:\\n    \\n        Doom III features an enhanced storyline and some award-winning graphics, sound, and bloodcurdling action. the Union Aerospace Corporations' Mars Research\\xa0...\\n    \\n        Doom 3 ; Is Discontinued By Manufacturer: Yes ; Product Dimensions: 7.5 x 5.5 x 0.75 inches; 4.8 ounces ; Our Recommended age: 17 - 20 years ; Item model number:\\xa0...\\n    \\n        Doom 3 BFG Edition - Announce Trailer · PlayStation 3. $17.99 with 10 percent savings$17.99. $19.91$19.91. In Stock · Xbox 360. 30 options from $6.49\\xa0...\\n    \\n\\n    \\nQuestion: What is the price of Doom 3 on Amazon? Respond with minimal item name and minimum price.\\n    \\nAnswer:\\n    \"}\u001b[0m\n",
      "DEBUG:haystack.tracing.logging_tracer:haystack.component.visits=1\u001b[0m\n",
      "DEBUG:haystack.tracing.logging_tracer:haystack.component.output={'replies': ['Doom 3 - $6.49'], 'meta': [{'model': 'gpt-4o-mini-2024-07-18', 'index': 0, 'finish_reason': 'stop', 'usage': {'completion_tokens': 10, 'prompt_tokens': 194, 'total_tokens': 204, 'completion_tokens_details': CompletionTokensDetails(accepted_prediction_tokens=0, audio_tokens=0, reasoning_tokens=0, rejected_prediction_tokens=0), 'prompt_tokens_details': PromptTokensDetails(audio_tokens=0, cached_tokens=0)}}]}\u001b[0m\n",
      "DEBUG:haystack.tracing.logging_tracer:Operation: haystack.pipeline.run\n",
      "DEBUG:haystack.tracing.logging_tracer:haystack.pipeline.input_data={'websearch': {'query': 'price of Doom 3 on Amazon'}, 'prompt_builder': {'query': 'What is the price of Doom 3 on Amazon? Respond with minimal item name and minimum price.', 'template': None, 'template_variables': None}}\u001b[0m\n",
      "DEBUG:haystack.tracing.logging_tracer:haystack.pipeline.output_data={'websearch': {'links': ['https://www.amazon.com/Doom-3-pc/dp/B00006C2HA', 'https://www.amazon.com/Doom-3-Xbox/dp/B0001KUE7S', 'https://www.amazon.com/Doom-3-BFG-microsoft-xbox-360/dp/B008E6ZXRM']}, 'llm': {'replies': ['Doom 3 - $6.49'], 'meta': [{'model': 'gpt-4o-mini-2024-07-18', 'index': 0, 'finish_reason': 'stop', 'usage': {'completion_tokens': 10, 'prompt_tokens': 194, 'total_tokens': 204, 'completion_tokens_details': CompletionTokensDetails(accepted_prediction_tokens=0, audio_tokens=0, reasoning_tokens=0, rejected_prediction_tokens=0), 'prompt_tokens_details': PromptTokensDetails(audio_tokens=0, cached_tokens=0)}}]}}\u001b[0m\n",
      "DEBUG:haystack.tracing.logging_tracer:haystack.pipeline.metadata={}\u001b[0m\n",
      "DEBUG:haystack.tracing.logging_tracer:haystack.pipeline.max_runs_per_component=100\u001b[0m\n"
     ]
    },
    {
     "name": "stdout",
     "output_type": "stream",
     "text": [
      "⌛ iterating...\n",
      "You are about to buy 50 units of Doom 3 video game from Amazon for a total of $324.5. Are you sure you want to continue? (y/n)y\n",
      "⌛ iterating...\n",
      "⌛ iterating...\n",
      "🤖: Ho ho ho! 🎮 You've successfully bought 50 copies of **Doom 3**! Now that’s a festive gaming treat! \n",
      "\n",
      "And guess what? You've also taken 40 of them from Santa’s inventory. \n",
      "\n",
      "If there's anything else you'd like to add cheer to, or any more holiday wishes, just let me know! 🎅✨🎉\n",
      "\n",
      "\n",
      "waiting for input (type 'exit' or 'quit' to stop)\n",
      "🧝: What does the inventory look like?\n",
      "⌛ iterating...\n",
      "⌛ iterating...\n",
      "🤖: Ho ho ho! 🎄 Here’s the latest and greatest from Santa's inventory, full of holiday joy! ✨\n",
      "\n",
      "1. **Nintendo Switch** - 2,189 units (Amazon)\n",
      "2. **Hand-Knitted Teddy Bear** - 233 units (Handmade)\n",
      "3. **Carved Wooden Puzzle** - 179 units (Handmade)\n",
      "4. **Remote Control Drone** - 1,542 units (Amazon)\n",
      "5. **Painted Rocking Horse** - 93 units (Handmade)\n",
      "6. **Science Experiment Kit** - 2,077 units (Amazon)\n",
      "7. **Miniature Dollhouse** - 110 units (Handmade)\n",
      "8. **Nerf Blaster** - 2,731 units (Amazon)\n",
      "9. **Interactive Robot Pet** - 1,394 units (Amazon)\n",
      "10. **LEGO Star Wars Set** - 3,455 units (Amazon)\n",
      "11. **Playstation 5** - 5 units (Amazon)\n",
      "12. **Barbie Dreamhouse** - 373 units (Amazon)\n",
      "13. **Wooden Sailboat** - 74 units (Handmade)\n",
      "14. **Harry Potter and the Philosopher's Stone book** - 50 units (Amazon)\n",
      "15. **Doom 3 video game** - 10 units (Amazon)\n",
      "\n",
      "If you have more magic to sprinkle or any other requests, just let me know! 🎅🎁✨\n",
      "\n",
      "\n",
      "waiting for input (type 'exit' or 'quit' to stop)\n",
      "🧝: Price of Bose noise removing headphones\n",
      "⌛ iterating...\n"
     ]
    },
    {
     "name": "stderr",
     "output_type": "stream",
     "text": [
      "INFO:haystack.core.pipeline.pipeline:Running component websearch\n",
      "DEBUG:haystack.tracing.logging_tracer:Operation: haystack.component.run\n",
      "DEBUG:haystack.tracing.logging_tracer:\u001b[1;34mhaystack.component.name=websearch\u001b[0m\n",
      "DEBUG:haystack.tracing.logging_tracer:haystack.component.type=DuckduckgoApiWebSearch\u001b[0m\n",
      "DEBUG:haystack.tracing.logging_tracer:haystack.component.input_types={'query': 'str'}\u001b[0m\n",
      "DEBUG:haystack.tracing.logging_tracer:haystack.component.input_spec={'query': {'type': 'str', 'senders': []}}\u001b[0m\n",
      "DEBUG:haystack.tracing.logging_tracer:haystack.component.output_spec={'documents': {'type': 'typing.List[haystack.dataclasses.document.Document]', 'receivers': ['prompt_builder']}, 'links': {'type': 'typing.List[str]', 'receivers': []}}\u001b[0m\n",
      "DEBUG:haystack.tracing.logging_tracer:\u001b[1;31mhaystack.component.input={'query': 'price of Bose noise cancelling headphones on Amazon'}\u001b[0m\n",
      "DEBUG:haystack.tracing.logging_tracer:haystack.component.visits=1\u001b[0m\n",
      "DEBUG:haystack.tracing.logging_tracer:haystack.component.output={'documents': [Document(id=ed1d7a83325830e67021d7df7eccfe43ac360e3f373818093fe375cf65de0da9, content: 'Results · Bose · QuietComfort Bluetooth Headphones, Wireless Headphones, Over Ear Noise Cancelling H...', meta: {'title': 'Bose Noise Cancelling Headphones - Amazon.com', 'link': 'https://www.amazon.com/bose-noise-cancelling-headphones/s?k=bose+noise+cancelling+headphones'}), Document(id=e294bf2f374c253999fe068f0f1c7a68925ccb2ec3da084518ffc5a04c623f97, content: 'This device has been certified by Amazon. With Alexa built-in, just ask. Ask to play music, get dire...', meta: {'title': 'Bose Headphones 700, Noise Cancelling Bluetooth Over-Ear ...', 'link': 'https://www.amazon.com/Bose-Cancelling-Wireless-Bluetooth-Headphones/dp/B07Q9MJKBV'}), Document(id=3c5231a3a82e5bc09ff1f5a8784fb6f3bcb1eaf6dee0aba453a14dff3b1ddc15, content: '4.54.5 out of 5 stars. (7,581). 9K+ bought in past month. $349.00$349.00 ; 4.34.3 out of 5 stars. (4...', meta: {'title': 'Bose Headphones - Amazon.com', 'link': 'https://www.amazon.com/bose-headphones/s?k=bose+headphones'})], 'links': ['https://www.amazon.com/bose-noise-cancelling-headphones/s?k=bose+noise+cancelling+headphones', 'https://www.amazon.com/Bose-Cancelling-Wireless-Bluetooth-Headphones/dp/B07Q9MJKBV', 'https://www.amazon.com/bose-headphones/s?k=bose+headphones']}\u001b[0m\n",
      "INFO:haystack.core.pipeline.pipeline:Running component prompt_builder\n",
      "DEBUG:haystack.tracing.logging_tracer:Operation: haystack.component.run\n",
      "DEBUG:haystack.tracing.logging_tracer:\u001b[1;34mhaystack.component.name=prompt_builder\u001b[0m\n",
      "DEBUG:haystack.tracing.logging_tracer:haystack.component.type=PromptBuilder\u001b[0m\n",
      "DEBUG:haystack.tracing.logging_tracer:haystack.component.input_types={'query': 'str', 'template': 'NoneType', 'template_variables': 'NoneType', 'documents': 'list'}\u001b[0m\n",
      "DEBUG:haystack.tracing.logging_tracer:haystack.component.input_spec={'query': {'type': 'typing.Any', 'senders': []}, 'documents': {'type': 'typing.Any', 'senders': ['websearch']}, 'template': {'type': 'typing.Optional[str]', 'senders': []}, 'template_variables': {'type': 'typing.Optional[typing.Dict[str, typing.Any]]', 'senders': []}}\u001b[0m\n",
      "DEBUG:haystack.tracing.logging_tracer:haystack.component.output_spec={'prompt': {'type': 'str', 'receivers': ['llm']}}\u001b[0m\n",
      "DEBUG:haystack.tracing.logging_tracer:\u001b[1;31mhaystack.component.input={'query': 'What is the price of Bose noise cancelling headphones on Amazon? Respond with minimal item name and minimum price.', 'template': None, 'template_variables': None, 'documents': [Document(id=ed1d7a83325830e67021d7df7eccfe43ac360e3f373818093fe375cf65de0da9, content: 'Results · Bose · QuietComfort Bluetooth Headphones, Wireless Headphones, Over Ear Noise Cancelling H...', meta: {'title': 'Bose Noise Cancelling Headphones - Amazon.com', 'link': 'https://www.amazon.com/bose-noise-cancelling-headphones/s?k=bose+noise+cancelling+headphones'}), Document(id=e294bf2f374c253999fe068f0f1c7a68925ccb2ec3da084518ffc5a04c623f97, content: 'This device has been certified by Amazon. With Alexa built-in, just ask. Ask to play music, get dire...', meta: {'title': 'Bose Headphones 700, Noise Cancelling Bluetooth Over-Ear ...', 'link': 'https://www.amazon.com/Bose-Cancelling-Wireless-Bluetooth-Headphones/dp/B07Q9MJKBV'}), Document(id=3c5231a3a82e5bc09ff1f5a8784fb6f3bcb1eaf6dee0aba453a14dff3b1ddc15, content: '4.54.5 out of 5 stars. (7,581). 9K+ bought in past month. $349.00$349.00 ; 4.34.3 out of 5 stars. (4...', meta: {'title': 'Bose Headphones - Amazon.com', 'link': 'https://www.amazon.com/bose-headphones/s?k=bose+headphones'})]}\u001b[0m\n",
      "DEBUG:haystack.tracing.logging_tracer:haystack.component.visits=1\u001b[0m\n",
      "DEBUG:haystack.tracing.logging_tracer:haystack.component.output={'prompt': '\\n    Given these documents, answer the question.\\nDocuments:\\n    \\n        Results · Bose · QuietComfort Bluetooth Headphones, Wireless Headphones, Over Ear Noise Cancelling Headphones with Mic, Up To 24 Hours of Battery Life, Black.\\n    \\n        This device has been certified by Amazon. With Alexa built-in, just ask. Ask to play music, get directions, control smart home devices, and more with this\\xa0...\\n    \\n        4.54.5 out of 5 stars. (7,581). 9K+ bought in past month. $349.00$349.00 ; 4.34.3 out of 5 stars. (4,758). 8K+ bought in past month. $429.00$429.00 ; 4.34.3 out\\xa0...\\n    \\n\\n    \\nQuestion: What is the price of Bose noise cancelling headphones on Amazon? Respond with minimal item name and minimum price.\\n    \\nAnswer:\\n    '}\u001b[0m\n",
      "INFO:haystack.core.pipeline.pipeline:Running component llm\n",
      "DEBUG:haystack.tracing.logging_tracer:Operation: haystack.component.run\n",
      "DEBUG:haystack.tracing.logging_tracer:\u001b[1;34mhaystack.component.name=llm\u001b[0m\n",
      "DEBUG:haystack.tracing.logging_tracer:haystack.component.type=OpenAIGenerator\u001b[0m\n",
      "DEBUG:haystack.tracing.logging_tracer:haystack.component.input_types={'system_prompt': 'NoneType', 'streaming_callback': 'NoneType', 'generation_kwargs': 'NoneType', 'prompt': 'str'}\u001b[0m\n",
      "DEBUG:haystack.tracing.logging_tracer:haystack.component.input_spec={'prompt': {'type': 'str', 'senders': ['prompt_builder']}, 'system_prompt': {'type': 'typing.Optional[str]', 'senders': []}, 'streaming_callback': {'type': 'typing.Optional[typing.Callable[[haystack.dataclasses.streaming_chunk.StreamingChunk], NoneType]]', 'senders': []}, 'generation_kwargs': {'type': 'typing.Optional[typing.Dict[str, typing.Any]]', 'senders': []}}\u001b[0m\n",
      "DEBUG:haystack.tracing.logging_tracer:haystack.component.output_spec={'replies': {'type': 'typing.List[str]', 'receivers': []}, 'meta': {'type': 'typing.List[typing.Dict[str, typing.Any]]', 'receivers': []}}\u001b[0m\n",
      "DEBUG:haystack.tracing.logging_tracer:\u001b[1;31mhaystack.component.input={'system_prompt': None, 'streaming_callback': None, 'generation_kwargs': None, 'prompt': '\\n    Given these documents, answer the question.\\nDocuments:\\n    \\n        Results · Bose · QuietComfort Bluetooth Headphones, Wireless Headphones, Over Ear Noise Cancelling Headphones with Mic, Up To 24 Hours of Battery Life, Black.\\n    \\n        This device has been certified by Amazon. With Alexa built-in, just ask. Ask to play music, get directions, control smart home devices, and more with this\\xa0...\\n    \\n        4.54.5 out of 5 stars. (7,581). 9K+ bought in past month. $349.00$349.00 ; 4.34.3 out of 5 stars. (4,758). 8K+ bought in past month. $429.00$429.00 ; 4.34.3 out\\xa0...\\n    \\n\\n    \\nQuestion: What is the price of Bose noise cancelling headphones on Amazon? Respond with minimal item name and minimum price.\\n    \\nAnswer:\\n    '}\u001b[0m\n",
      "DEBUG:haystack.tracing.logging_tracer:haystack.component.visits=1\u001b[0m\n",
      "DEBUG:haystack.tracing.logging_tracer:haystack.component.output={'replies': ['Bose QuietComfort Bluetooth Headphones, $349.00'], 'meta': [{'model': 'gpt-4o-mini-2024-07-18', 'index': 0, 'finish_reason': 'stop', 'usage': {'completion_tokens': 13, 'prompt_tokens': 203, 'total_tokens': 216, 'completion_tokens_details': CompletionTokensDetails(accepted_prediction_tokens=0, audio_tokens=0, reasoning_tokens=0, rejected_prediction_tokens=0), 'prompt_tokens_details': PromptTokensDetails(audio_tokens=0, cached_tokens=0)}}]}\u001b[0m\n",
      "DEBUG:haystack.tracing.logging_tracer:Operation: haystack.pipeline.run\n",
      "DEBUG:haystack.tracing.logging_tracer:haystack.pipeline.input_data={'websearch': {'query': 'price of Bose noise cancelling headphones on Amazon'}, 'prompt_builder': {'query': 'What is the price of Bose noise cancelling headphones on Amazon? Respond with minimal item name and minimum price.', 'template': None, 'template_variables': None}}\u001b[0m\n",
      "DEBUG:haystack.tracing.logging_tracer:haystack.pipeline.output_data={'websearch': {'links': ['https://www.amazon.com/bose-noise-cancelling-headphones/s?k=bose+noise+cancelling+headphones', 'https://www.amazon.com/Bose-Cancelling-Wireless-Bluetooth-Headphones/dp/B07Q9MJKBV', 'https://www.amazon.com/bose-headphones/s?k=bose+headphones']}, 'llm': {'replies': ['Bose QuietComfort Bluetooth Headphones, $349.00'], 'meta': [{'model': 'gpt-4o-mini-2024-07-18', 'index': 0, 'finish_reason': 'stop', 'usage': {'completion_tokens': 13, 'prompt_tokens': 203, 'total_tokens': 216, 'completion_tokens_details': CompletionTokensDetails(accepted_prediction_tokens=0, audio_tokens=0, reasoning_tokens=0, rejected_prediction_tokens=0), 'prompt_tokens_details': PromptTokensDetails(audio_tokens=0, cached_tokens=0)}}]}}\u001b[0m\n",
      "DEBUG:haystack.tracing.logging_tracer:haystack.pipeline.metadata={}\u001b[0m\n",
      "DEBUG:haystack.tracing.logging_tracer:haystack.pipeline.max_runs_per_component=100\u001b[0m\n"
     ]
    },
    {
     "name": "stdout",
     "output_type": "stream",
     "text": [
      "⌛ iterating...\n",
      "🤖: Ho ho ho! 🎶 The price of the **Bose QuietComfort Bluetooth Headphones** is **$349.00**! Perfect for tuning out the noise while you sip on hot cocoa! ☕️🎧 \n",
      "\n",
      "If you'd like to add these to our jolly inventory or need anything else, just let me know! 🎅✨\n",
      "\n",
      "\n",
      "waiting for input (type 'exit' or 'quit' to stop)\n",
      "🧝: I want to add 27 Wooden trains handmade by elves\n",
      "⌛ iterating...\n",
      "⌛ iterating...\n",
      "🤖: Ho ho ho! 🎉 We've added 27 **Wooden Trains**, lovingly handmade by our cheerful elves, to Santa's inventory! 🚂✨ \n",
      "\n",
      "If you have more magical requests or need anything else, just give me a shout! 🎅🎁🎄\n",
      "\n",
      "\n",
      "waiting for input (type 'exit' or 'quit' to stop)\n",
      "🧝: We’re out of jingle bells again!\n",
      "⌛ iterating...\n",
      "⌛ iterating...\n",
      "⌛ iterating...\n",
      "🤖: Jingle bells, jingle bells! 🎶 We’ve added 50 **Jingle Bells**, crafted with care by our busy little elves, back to Santa's inventory! 🛎️✨\n",
      "\n",
      "Now the holiday spirit can ring joyfully once more! If you need anything else or have more festive needs, just let me know! 🎅🎄🎁\n",
      "\n",
      "\n",
      "waiting for input (type 'exit' or 'quit' to stop)\n",
      "🧝: What's in the inventory?\n",
      "⌛ iterating...\n",
      "⌛ iterating...\n",
      "🤖: Ho ho ho! 🎄 Here’s the festive lineup of our North Pole inventory, just bursting with holiday spirit! ✨\n",
      "\n",
      "1. **Nintendo Switch** - 2,189 units (Amazon)\n",
      "2. **Hand-Knitted Teddy Bear** - 233 units (Handmade)\n",
      "3. **Carved Wooden Puzzle** - 179 units (Handmade)\n",
      "4. **Remote Control Drone** - 1,542 units (Amazon)\n",
      "5. **Painted Rocking Horse** - 93 units (Handmade)\n",
      "6. **Science Experiment Kit** - 2,077 units (Amazon)\n",
      "7. **Miniature Dollhouse** - 110 units (Handmade)\n",
      "8. **Nerf Blaster** - 2,731 units (Amazon)\n",
      "9. **Interactive Robot Pet** - 1,394 units (Amazon)\n",
      "10. **LEGO Star Wars Set** - 3,455 units (Amazon)\n",
      "11. **Playstation 5** - 5 units (Amazon)\n",
      "12. **Barbie Dreamhouse** - 373 units (Amazon)\n",
      "13. **Wooden Sailboat** - 74 units (Handmade)\n",
      "14. **Harry Potter and the Philosopher's Stone book** - 50 units (Amazon)\n",
      "15. **Doom 3 video game** - 10 units (Amazon)\n",
      "16. **Wooden Train** - 27 units (Handmade)\n",
      "17. **Jingle Bells** - 50 units (Handmade)\n",
      "\n",
      "If you need anything else to make the holiday season even brighter, just let me know! 🎅🎁🎊\n",
      "\n",
      "\n",
      "waiting for input (type 'exit' or 'quit' to stop)\n",
      "🧝: exit\n"
     ]
    }
   ],
   "source": [
    "from haystack_experimental.components.generators.chat import OpenAIChatGenerator\n",
    "from haystack_experimental.components.tools.tool_invoker import ToolInvoker\n",
    "from haystack_experimental.dataclasses import ChatMessage\n",
    "\n",
    "tools = [\n",
    "    lookup_item_in_inventory_tool,\n",
    "    add_item_to_inventory_tool,\n",
    "    inventory_summary_tool,\n",
    "    take_from_inventory_tool,\n",
    "    get_price_tool,\n",
    "    buy_from_amazon_tool,\n",
    "]\n",
    "\n",
    "chat_generator = OpenAIChatGenerator(tools=tools)\n",
    "\n",
    "tool_invoker = ToolInvoker(tools=tools)\n",
    "messages = [\n",
    "    ChatMessage.from_system(\n",
    "        \"\"\"You manage Santa Claus backoffice. Always talk with a XMAS tone and references. You are expected to talk with Santas elves.\n",
    "            Prepare a tool call if needed, otherwise use your knowledge to respond to the user.\n",
    "            If the invocation of a tool requires the result of another tool, prepare only one call at a time.\n",
    "\n",
    "            Each time you receive the result of a tool call, ask yourself: \"Am I done with the task?\".\n",
    "            If not and you need to invoke another tool, prepare the next tool call.\n",
    "            If you are done, respond with just the final result.\"\"\"\n",
    "    )\n",
    "]\n",
    "\n",
    "while True:\n",
    "    user_input = input(\"\\n\\nwaiting for input (type 'exit' or 'quit' to stop)\\n🧝: \")\n",
    "    if user_input.lower() == \"exit\" or user_input.lower() == \"quit\":\n",
    "        break\n",
    "    messages.append(ChatMessage.from_user(user_input))\n",
    "\n",
    "    while True:\n",
    "        print(\"⌛ iterating...\")\n",
    "\n",
    "        replies = chat_generator.run(messages=messages)[\"replies\"]\n",
    "        messages.extend(replies)\n",
    "\n",
    "        # Check for tool calls and handle them\n",
    "        if not replies[0].tool_calls:\n",
    "            break\n",
    "        tool_calls = replies[0].tool_calls\n",
    "\n",
    "        tool_messages = tool_invoker.run(messages=replies)[\"tool_messages\"]\n",
    "        messages.extend(tool_messages)\n",
    "\n",
    "    # Print the final AI response after all tool calls are resolved\n",
    "    print(f\"🤖: {messages[-1].text}\")"
   ]
  },
  {
   "cell_type": "code",
   "execution_count": null,
   "metadata": {
    "id": "j5AJUgt4IbT7"
   },
   "outputs": [],
   "source": []
  }
 ],
 "metadata": {
  "colab": {
   "include_colab_link": true,
   "provenance": []
  },
  "kernelspec": {
   "display_name": "Python 3",
   "name": "python3"
  },
  "language_info": {
   "name": "python"
  }
 },
 "nbformat": 4,
 "nbformat_minor": 0
}