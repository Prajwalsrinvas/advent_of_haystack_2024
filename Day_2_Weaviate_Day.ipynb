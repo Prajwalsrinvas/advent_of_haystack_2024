{
 "cells": [
  {
   "cell_type": "markdown",
   "metadata": {
    "colab_type": "text",
    "id": "view-in-github"
   },
   "source": [
    "<a href=\"https://colab.research.google.com/github/Prajwalsrinvas/advent_of_haystack_2024/blob/main/Day_2_Weaviate_Day.ipynb\" target=\"_parent\"><img src=\"https://colab.research.google.com/assets/colab-badge.svg\" alt=\"Open In Colab\"/></a>"
   ]
  },
  {
   "cell_type": "markdown",
   "metadata": {
    "id": "lL7Y3zl5NYAy"
   },
   "source": [
    "# Advent of Haystack: Day 2\n",
    "\n",
    "_Make a copy of this Colab to start_\n",
    "\n",
    "In this challenge, your mission is to help a couple of fictional elves in the film \"A Very Weaviate Christmas\".\n",
    "1. Find out what's happening in the film \"A Very Weaviate Christmas\"\n",
    "2. This will lead you to a clue that will let you discover which Weaviate Collection to peak into.\n",
    "3. While submitting the challenge, tell us what you find there!\n",
    "\n",
    "\n",
    "### Components to use:\n",
    "1. [`OpenAITextEmbedder`](https://docs.haystack.deepset.ai/docs/openaitextembedder)\n",
    "2. [`OpenAIGenerator`](https://docs.haystack.deepset.ai/docs/openaigenerator)\n",
    "3. [`PromptBuilder`](https://docs.haystack.deepset.ai/docs/promptbuilder)\n",
    "4. [`WeaviateDocumentStore`](https://docs.haystack.deepset.ai/docs/weaviatedocumentstore)\n",
    "5. [`WeaviateEmbeddingRetriever`](https://docs.haystack.deepset.ai/reference/integrations-weaviate#weaviateembeddingretriever)\n",
    "\n",
    "\n",
    "🎄 **Your task is to complete steps 3 and 4**. But make sure you run the code cells before. You should know what each prior step is doing."
   ]
  },
  {
   "cell_type": "markdown",
   "metadata": {
    "id": "VVczHaPYOGxT"
   },
   "source": [
    "## 1) Setup and Installation"
   ]
  },
  {
   "cell_type": "code",
   "execution_count": null,
   "metadata": {
    "id": "hdiFsnQDWzP0"
   },
   "outputs": [],
   "source": [
    "!pip install haystack-ai weaviate-haystack\n",
    "!pip install -q --upgrade openai # not to get the OpenAI proxies error: https://community.openai.com/t/error-with-openai-1-56-0-client-init-got-an-unexpected-keyword-argument-proxies/1040332/2"
   ]
  },
  {
   "cell_type": "markdown",
   "metadata": {
    "id": "VtYq1ESqMB3K"
   },
   "source": [
    "To get started, first provide your API keys below. We're providing you with a read-only API Key for Weaviate.\n",
    "\n",
    "For this challenge, we've prepared a Weaviate Collection for you which contains lots of movies and their overviews."
   ]
  },
  {
   "cell_type": "code",
   "execution_count": null,
   "metadata": {
    "colab": {
     "base_uri": "https://localhost:8080/"
    },
    "id": "FL3rTDBtMBOj",
    "outputId": "fbc41d2d-ec98-4c93-c79e-a2b31ad02c58"
   },
   "outputs": [
    {
     "name": "stdout",
     "output_type": "stream",
     "text": [
      "Enter OpenAI API key:··········\n"
     ]
    }
   ],
   "source": [
    "import os\n",
    "from getpass import getpass\n",
    "\n",
    "os.environ[\"WEAVIATE_API_KEY\"] = \"b3jhGwa4NkLGjaq3v1V1vh1pTrlKjePZSt91\"\n",
    "\n",
    "if \"OPENAI_API_KEY\" not in os.environ:\n",
    "    os.environ[\"OPENAI_API_KEY\"] = getpass(\"Enter OpenAI API key:\")"
   ]
  },
  {
   "cell_type": "markdown",
   "metadata": {
    "id": "PYsyzFI0MvHF"
   },
   "source": [
    "## 2) Weaviate Setup\n",
    "\n",
    "Next, you can connect to the right `WeaviateDocumentStore` (we've already added the right code for you below with the cleint URL in place).\n",
    "\n",
    "In this document store, there are many movies, their titles and ther overviews."
   ]
  },
  {
   "cell_type": "code",
   "execution_count": null,
   "metadata": {
    "id": "EbTdrvUgZoku"
   },
   "outputs": [],
   "source": [
    "from haystack_integrations.document_stores.weaviate import (\n",
    "    WeaviateDocumentStore,\n",
    "    AuthApiKey,\n",
    ")\n",
    "from haystack import Document\n",
    "import os\n",
    "\n",
    "\n",
    "auth_client_secret = AuthApiKey()\n",
    "\n",
    "document_store = WeaviateDocumentStore(\n",
    "    url=\"https://zgvjwlycsr6p5j1ziuyea.c0.europe-west3.gcp.weaviate.cloud\",\n",
    "    auth_client_secret=auth_client_secret,\n",
    ")"
   ]
  },
  {
   "cell_type": "markdown",
   "metadata": {
    "id": "4qTWIDu_OpSF"
   },
   "source": [
    "## 3) The RAG Pipeline\n",
    "\n",
    "Now, you're on your own. Complete the code blocks below.\n",
    "\n",
    "First, create a RAG pipeline that can answer questions based on the overviews of the movies in your `document_store`.\n",
    "\n",
    "⭐️ You should then be able to run the pipeline and answer the questions \"What happens in the film 'A Very Weaviate Christmas'?\"\n",
    "\n",
    "**💚 Hint 1:** The embedding model that was used to populate the vectors was `text-embedding-3-small` by OpenAI.\n",
    "\n",
    "**💙 Hint 2:** We've added an import to the OpenAIGenerator but feel free to use something else!"
   ]
  },
  {
   "cell_type": "code",
   "execution_count": null,
   "metadata": {
    "id": "aVUii4r1cr3f"
   },
   "outputs": [],
   "source": [
    "from haystack import Pipeline\n",
    "from haystack.components.embedders import OpenAITextEmbedder\n",
    "from haystack.components.generators import OpenAIGenerator\n",
    "from haystack.components.builders import PromptBuilder\n",
    "from haystack_integrations.components.retrievers.weaviate import (\n",
    "    WeaviateEmbeddingRetriever,\n",
    ")\n",
    "\n",
    "\n",
    "rag = Pipeline()\n",
    "rag.add_component(...)"
   ]
  },
  {
   "cell_type": "code",
   "execution_count": null,
   "metadata": {
    "id": "OsiP8tIVfXqD"
   },
   "outputs": [],
   "source": [
    "query = \"What happens in the film 'A Very Weaviate Christmas'?\"\n",
    "reply = rag.run(...)\n",
    "\n",
    "# print(reply[...])"
   ]
  },
  {
   "cell_type": "markdown",
   "metadata": {
    "id": "iEldTiRmShUk"
   },
   "source": [
    "## 4) Solve the Mystery\n",
    "\n",
    "By this point, you should know what's happening.. There is a Collection where everything has been hidden.\n",
    "\n",
    "Complete the code cell below by providing the right Collection name, and tell us the following:\n",
    "\n",
    "1. Who is the culprit? Watch out, because there may be `decoys`.\n",
    "2. What have they stolen?\n",
    "\n",
    "**💚 Hint:** Once you've connected to the right collection, take a look at all the Objects in there. Then, you may be able to use filters to avoid the decoys!\n",
    "\n",
    "- [Weaviate Documentation: Read all Objects](https://weaviate.io/developers/weaviate/manage-data/read-all-objects)\n",
    "- [Weaviate Documentation: Filters](https://weaviate.io/developers/weaviate/search/filters)"
   ]
  },
  {
   "cell_type": "code",
   "execution_count": null,
   "metadata": {
    "id": "4US7AdElQ2Zk"
   },
   "outputs": [],
   "source": [
    "import weaviate\n",
    "\n",
    "from weaviate.classes.init import Auth\n",
    "\n",
    "headers = {\"X-OpenAI-Api-Key\": os.getenv(\"OPENAI_API_KEY\")}\n",
    "client = weaviate.connect_to_weaviate_cloud(\n",
    "    cluster_url=\"https://zgvjwlycsr6p5j1ziuyea.c0.europe-west3.gcp.weaviate.cloud\",\n",
    "    auth_credentials=Auth.api_key(os.getenv(\"WEAVIATE_API_KEY\")),\n",
    "    headers=headers,\n",
    ")\n",
    "\n",
    "# Provide the name of the collection in client.collections.get() below 👇\n",
    "plot = client.collections.get(...)"
   ]
  }
 ],
 "metadata": {
  "colab": {
   "include_colab_link": true,
   "provenance": []
  },
  "kernelspec": {
   "display_name": "Python 3",
   "name": "python3"
  },
  "language_info": {
   "name": "python"
  }
 },
 "nbformat": 4,
 "nbformat_minor": 0
}
